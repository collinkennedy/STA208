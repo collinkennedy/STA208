{
 "cells": [
  {
   "cell_type": "markdown",
   "id": "96dd0c0e",
   "metadata": {},
   "source": [
    "\n",
    "# STA 208: Homework 1 \n"
   ]
  },
  {
   "cell_type": "markdown",
   "id": "43772f97",
   "metadata": {},
   "source": [
    "### Exercise 1 (Empirical risk minimization) (20 pts, 5 pts each)\n",
    "\n",
    "Consider Poisson model with rate parameter $\\lambda$ which has PMF,\n",
    "$$\n",
    "p(y|\\lambda) = \\frac{\\lambda^y}{y!} e^{-\\lambda},\n",
    "$$\n",
    "where $y = 0,1,\\ldots$ is some count variable.\n",
    "In Poison regression, we model $\\lambda = e^{\\beta^\\top x}$ to obtain $p(y | x,\\beta)$.\n",
    "\n",
    "1. Let the loss function for Poisson regression be $\\ell_i(\\beta) \\propto - \\log p(y_i | x_i, \\beta)$ for a dataset consisting of predictor variables and count values $\\{x_i,y_i\\}_{i=1}^n$.  Here $\\propto$ means that we disregard any additive terms that are not dependent on $\\beta$.  Write an expression for $\\ell_i$ and derive its gradient.\n",
    "\n",
    "**Solution**:\n",
    "starting with the log density function:\n",
    "$$\n",
    "    = -\\lambda + yln(\\lambda) - y! \\Rightarrow yln(\\lambda) - \\lambda \\Rightarrow y\\beta^Tx - e^{\\beta^Tx}\n",
    "$$\n",
    "\n",
    "So, our loss function $\\ell_i$ is:\n",
    "\n",
    "$$\n",
    "\\ell_i(\\beta) = e^{\\beta^Tx_i} - y_i\\beta^Tx_i \n",
    "$$\n",
    "\n",
    "The gradient of $\\ell_i(\\beta)$:\n",
    "\n",
    "$$\n",
    " \\frac{d\\ell_i(\\beta)}{d\\beta} = x_ie^{\\beta^Tx_i} - x_iy_i\n",
    "$$\n",
    "\n",
    "\n",
    "\n",
    "2. Show that the empirical risk $R_n(\\beta)$ is a convex function of $\\beta$.\n",
    "\n",
    "**Solution**:\n",
    "\n",
    "Empirical Risk:\n",
    "$$\n",
    "R_n(\\theta) = \\frac{1}{n}\\sum^n_{i=1}(e^{\\beta^Tx_i} - y_i\\beta^Tx_i)\n",
    "$$\n",
    "\n",
    "$$\n",
    "\\frac{dR_n(\\theta)}{d\\beta} = \\frac{1}{n}\\sum^n_{i=1}\\frac{d}{d\\beta}(e^{\\beta^Tx_i} - y\\beta^Tx_i) = \\frac{1}{n}\\sum^n_{i=1}(x^T_ie^{\\beta^Tx_i} - x^T_iy_i)\n",
    "$$\n",
    "\n",
    "Now, to show that the empirical risk function $R_n(\\theta)$ is concave up (convex), one must show the *second* derivative of empirical risk function is positive:\n",
    "\n",
    "$$\n",
    "\\frac{d^2R_n(\\theta)}{d\\beta^2} = \\frac{1}{n}\\sum^n_{i=1}x^T_ix_ie^{\\beta^Tx_i}\n",
    "$$\n",
    "\n",
    "The second derivative of the empirical risk function $R_n(\\theta)$ with respect to $\\beta$ is clearly positive, so the empirical risk function is concave up and therefore a convex function of $\\beta$\n",
    "\n",
    "3. Consider the mapping $F_\\eta(\\beta) = \\beta - \\eta \\nabla R_n(\\beta)$ which is the iteration of gradient descent ($\\eta>0$ is called the learning parameter).  Show that at the minimizer of $R_n$, $\\hat \\beta$, we have that $F(\\hat \\beta) = \\hat \\beta$.\n",
    "4. I have a script to simulate from this model below.  Implement the gradient descent algorithm above and show that with enough data ($n$ large enough) the estimated $\\hat \\beta$ approaches the true $\\beta$ (you can look at the sum of square error between these two vectors).\n",
    "\n",
    "**Solution 3.**\n",
    "\n",
    "In order to show $F(\\hat{\\beta}) = \\hat{\\beta}$, need to show that $R_n(\\beta)$ is $ = 0$ at $\\hat{\\beta}$. Then $F(\\hat{\\beta}) = \\hat{\\beta}$\n",
    "\n",
    "$F_{\\eta}(\\beta) = \\beta - \\eta\\nabla R_n(\\beta)$ \n",
    "\n",
    "$$\n",
    "F_{\\eta}(\\hat{\\beta}) = \\hat{\\beta} - \\eta\\nabla R_n(\\hat{\\beta)}\n",
    "$$\n",
    "\n",
    "Since $\\hat{\\beta}$ minimizes $R_n$, then $\\nabla R_n$ evaluated at $\\hat{\\beta} = 0$ \n",
    "\n",
    "$$\n",
    "\\therefore F_\\eta(\\hat{\\beta}) = \\hat{\\beta} - 0 = \\hat{\\beta}$$\n",
    "\n",
    "\n"
   ]
  },
  {
   "cell_type": "markdown",
   "id": "c3fe51a3",
   "metadata": {},
   "source": [
    "**Solution 4.**"
   ]
  },
  {
   "cell_type": "code",
   "execution_count": 121,
   "id": "ff3ad3c7",
   "metadata": {},
   "outputs": [],
   "source": [
    "import numpy as np\n",
    "import matplotlib.pyplot as plt"
   ]
  },
  {
   "cell_type": "code",
   "execution_count": 122,
   "id": "adb9d5f4",
   "metadata": {},
   "outputs": [],
   "source": [
    "## Simulate from the Poisson regression model (use y,X)\n",
    "np.random.seed(2022)\n",
    "n, p = 1000,20 # 1000 observations, 20 variables\n",
    "X = np.random.normal(0,1,size = (n,p)) # generation 1000x20 design matrix random samples from standard normal distribution\n",
    "beta = np.random.normal(0,.2,size = (p)) #general p beta coefficients from normal distribution\n",
    "lamb = np.exp(X @ beta)\n",
    "y = np.random.poisson(lamb)"
   ]
  },
  {
   "cell_type": "code",
   "execution_count": 123,
   "id": "11e0976a",
   "metadata": {},
   "outputs": [],
   "source": [
    "\n",
    "#pass this as argument to the gradient_descent function as intial guess for betas\n",
    "np.random.seed(1)\n",
    "initial_betas = np.random.normal(0,.3,size = (20))\n",
    "\n",
    "def gradient_descent(X,y,beta_vector, learning_parameter = .0001, n_iterations = 100):\n",
    "    #X is our data matrix\n",
    "    #y is our vector of observed outcomes\n",
    "    #beta vector is our initial guess of our beta's\n",
    "    #learning parameter determines the rate at which the function converges\n",
    "    #n_iterations determines the number of iterations\n",
    "    p = len(beta_vector)\n",
    "    n = len(y) #get n\n",
    "    #will store sum of squared error\n",
    "    SSE_list = list()\n",
    "    betas = list(beta_vector) #initialize list of betas with the initial guess\n",
    "    \n",
    "\n",
    "    # er_list = list() #used to store empirical risk for each iteration\n",
    "\n",
    "    for i in range(n_iterations):\n",
    "\n",
    "        #generate predictions\n",
    "        y_hat = np.exp(X @ beta_vector)\n",
    "\n",
    "        #descend to next beta\n",
    "        beta_vector = beta_vector - learning_parameter * X.T @ (y_hat - y)\n",
    "\n",
    "        #calculate the empirical risk with this new beta_vector and add it to the list\n",
    "        SSE = 1/n * np.sum((y_hat - y)**2)\n",
    "        SSE_list.append(SSE)\n",
    "\n",
    "        #append this guess of betas before next iteration\n",
    "        betas.append(beta_vector)\n",
    "        \n",
    "\n",
    "    return(SSE_list,betas)\n"
   ]
  },
  {
   "cell_type": "code",
   "execution_count": 124,
   "id": "9284ae0c",
   "metadata": {},
   "outputs": [
    {
     "name": "stdout",
     "output_type": "stream",
     "text": [
      "Initial MSE: 49.375     Final MSE: 1.544\n"
     ]
    }
   ],
   "source": [
    "returned_SSE,returned_betas = gradient_descent(X,y,initial_betas)\n",
    "print('Initial MSE: {:0.3f}     Final MSE: {:0.3f}'.format(returned_SSE[0],returned_SSE[-1]))"
   ]
  },
  {
   "cell_type": "code",
   "execution_count": 125,
   "id": "bfb2c4e9",
   "metadata": {},
   "outputs": [
    {
     "data": {
      "image/png": "[encoded data removed]",
      "text/plain": [
       "<Figure size 432x288 with 1 Axes>"
      ]
     },
     "metadata": {},
     "output_type": "display_data"
    }
   ],
   "source": [
    "plt.style.use(\"ggplot\")\n",
    "plt.figure()\n",
    "plt.plot(np.arange(0, len(returned_SSE)), returned_SSE) ## fix\n",
    "plt.title(\"Training Loss\")\n",
    "plt.xlabel(\"iterations\")\n",
    "plt.ylabel(\"Sum of Squared Errors\")\n",
    "plt.show()"
   ]
  },
  {
   "cell_type": "markdown",
   "metadata": {},
   "source": [
    "Note that as the number of iterations increases, SSE plateus as the estimate for Beta converges."
   ]
  },
  {
   "cell_type": "markdown",
   "id": "360cc371",
   "metadata": {},
   "source": [
    "### Exercise 2 (Regression and OLS) (35 pts, 5 pts each)\n",
    "\n",
    "Consider the regression setting in which $x_i \\in \\mathbb R^p$ and $y_i \\in \\mathbb R$, for $i=1,\\ldots,n$ and $p < n$.\n",
    "\n",
    "1. For a given regressor, let $\\hat y_i$ be prediction given $x_i$, and $\\hat y$ be the vector form.  Show that linear regression can be written in the form\n",
    "$$\n",
    "\\hat y = H y,\n",
    "$$\n",
    "where $H$ is dependent on $X$ (the matrix of where each row is $x_i$), assuming that $p < n$ and $X$ is full rank.  Give an expression for $H$ or an algorithm for computing $H$. \n",
    "\n",
    "\n",
    "2. Assuming $p < n$ and $X$ is full rank, let $X = U D V^\\top$ be the thin singular value decomposition where $U$ is $n \\times p$, and $V, D$ is $p \\times p$ ($D$ is diagonal). \n",
    "    - a) Derive an expression for the OLS coefficients $\\beta = A b$ such that $A$ is $p \\times p$ and depends on $V$ and $D$, and $b$ is a $p$ vector and does not depend on $D$.   \n",
    "    - b) Describe a fit method that precomputes these quantities separately\n",
    "    - c) Use the simulated data $y$ and $X$ in below to find $\\hat \\beta$ using SVD.\n",
    "    - d) Call a new data $\\tilde X \\in \\mathbb{R}^{m \\times p}$, derive an expression for the predicted $y$ with $\\tilde X$ using SVD. \n",
    "\n",
    "\n",
    "3. Consider a regressor that performs OLS using the SVD above, but every instance of D will only use the largest $r$ values on the diagonal, the remainder will be set to 0.  Call this new $p \\times p$ matrix $D_r$ ($r < p$).  Then the new coefficient vector is the OLS computed as if the design matrix is modified by $X \\gets U D_r V^\\top$.  \n",
    "    - a) Given that you have computed $b$ already, how could you make a method `change_rank` that recomputes $A$ with $D_r$ instead of $D$? \n",
    "    - b) Choose $r = 10$, recompute $\\hat\\beta$ (call it $\\hat\\beta_{\\text{LowRank}}$) in Question 2-c."
   ]
  },
  {
   "cell_type": "code",
   "execution_count": 126,
   "id": "ced8a4c8",
   "metadata": {},
   "outputs": [
    {
     "data": {
      "text/plain": [
       "array([-0.17336565,  0.30605672, -0.24285072, -0.10336749,  0.23008593,\n",
       "       -0.09329863,  0.36483006,  0.09802562,  0.10602947,  0.01806207,\n",
       "       -0.04712799,  0.18924857, -0.45970023,  0.1437104 , -0.44001405,\n",
       "       -0.21839412,  0.00953289, -0.06680017,  0.0025944 , -0.41108426])"
      ]
     },
     "execution_count": 126,
     "metadata": {},
     "output_type": "execute_result"
    }
   ],
   "source": [
    "## Simulate from the linear regression model (use y,X)\n",
    "np.random.seed(2022)\n",
    "n, p = 100,20\n",
    "X = np.random.normal(0,1,size = (n,p))\n",
    "beta = np.random.normal(0,.2,size = (p))\n",
    "sigma = 1\n",
    "y = np.random.normal(X @ beta, sigma**2)\n",
    "beta"
   ]
  },
  {
   "cell_type": "markdown",
   "id": "52b21e7d",
   "metadata": {},
   "source": [
    "**Solution 1**"
   ]
  },
  {
   "cell_type": "markdown",
   "id": "f208d9bc",
   "metadata": {},
   "source": [
    "Given $Y = XB$, Linear Regression can be understood and presented as an optimization problem, where OLS provides a solution to the optimization problem:\n",
    "\n",
    "$$\n",
    "\\argmin_{\\beta} ||Y - XB||^2_2\n",
    "$$\n",
    "\n",
    "$$\n",
    "\\Rightarrow \\frac{d}{d\\beta}(Y - XB)^T(Y - XB) = \\frac{d}{d\\beta}(Y^T - B^TX^T)(Y - XB) = \\frac{d}{d\\beta}[Y^TY - Y^TXB - B^TX^TY + B^TX^TXB]\n",
    "$$\n",
    "\n",
    "$$\n",
    "\\Rightarrow -2X^TXB + 2X^TXB = 0 \n",
    "$$\n",
    "\n",
    "$$\n",
    "\\Rightarrow \\hat{\\beta} = (X^TX)^{-1}X^TY\n",
    "$$\n",
    "\n",
    "Since $\\hat{Y} = X\\hat{\\beta}$,   \n",
    "\n",
    "$$ \n",
    "\\hat{Y} = X(X^TX)^{-1}X^TY\n",
    "$$\n",
    "\n",
    "Therefor $X(X^TX)^{-1}X^T = H$, where $H$ is the Hat matrix (a projection matrix), and we are left with:\n",
    "\n",
    "$$\n",
    "\\hat{Y} = Hy\n",
    "$$"
   ]
  },
  {
   "cell_type": "markdown",
   "id": "a39aa77e",
   "metadata": {},
   "source": [
    "**Solution 2.**\n"
   ]
  },
  {
   "cell_type": "markdown",
   "id": "8169182b",
   "metadata": {},
   "source": [
    "- **a)**\n",
    "$\\beta = (X^TX)^{-1}X^Ty$, plugging in $UDV^T$ for $X$ and simplying we obtain:\n",
    "\n",
    "$$\n",
    "\\Rightarrow \\beta = VD^{-1}U^Ty\n",
    "$$\n",
    "\n",
    "Letting $A = VD^{-1}$ and $b = U^Ty$, it is clear that\n",
    "\n",
    "$$\n",
    "\\beta = Ab\n",
    "$$\n"
   ]
  },
  {
   "cell_type": "markdown",
   "id": "479cc957",
   "metadata": {},
   "source": [
    "- **b)**"
   ]
  },
  {
   "cell_type": "code",
   "execution_count": 127,
   "id": "117f7227",
   "metadata": {},
   "outputs": [],
   "source": [
    "#define a function that computes A and b to estimate Beta\n",
    "\n",
    "def svd_ols(X,y):\n",
    "    U, Sigma_values, V_transpose = np.linalg.svd(X,full_matrices=False) #obtain the 3 matrices for singular valu\n",
    "    Sigma = np.diag(Sigma_values)\n",
    "    A = V_transpose.T @ np.linalg.inv(Sigma)\n",
    "    b = U.T @ y\n",
    "    beta = A @ b\n",
    "\n",
    "    return beta"
   ]
  },
  {
   "cell_type": "markdown",
   "id": "aa81bef3",
   "metadata": {},
   "source": [
    "- **c)**"
   ]
  },
  {
   "cell_type": "code",
   "execution_count": 128,
   "id": "6efb80b9",
   "metadata": {},
   "outputs": [
    {
     "data": {
      "text/plain": [
       "array([-0.17529727,  0.2409376 , -0.44251575, -0.03407534,  0.23607846,\n",
       "       -0.2524819 ,  0.50945566,  0.03948573,  0.21520295, -0.03151863,\n",
       "        0.02374895,  0.13474846, -0.37652418, -0.01026382, -0.33508302,\n",
       "       -0.04318508,  0.2321108 , -0.20681122, -0.05872932, -0.24552763])"
      ]
     },
     "execution_count": 128,
     "metadata": {},
     "output_type": "execute_result"
    }
   ],
   "source": [
    "#use simulated data and the function defined in part b) to estimate beta coefficients\n",
    "beta_hats = svd_ols(X,y)\n",
    "beta_hats"
   ]
  },
  {
   "cell_type": "markdown",
   "id": "6a56ef4b",
   "metadata": {},
   "source": [
    "**d)**\n",
    "$$\n",
    "Y_{pred} = \\tilde{X}\\beta\n",
    "$$\n",
    "\n",
    "$$\n",
    "\\Rightarrow Y_{pred} = \\tilde{X}Ab\n",
    "$$\n",
    "\n",
    "$$\n",
    "\\Rightarrow Y_{pred} = \\tilde{X}VD^{-1}U^Ty\n",
    "$$\n",
    "\n",
    "Noting that $\\tilde{X} = UDV^T$ and subsituting we obtain\n",
    "\n",
    "$$\n",
    "\\Rightarrow Y_{pred} = UDV^TVD^{-1}U^Ty \n",
    "$$\n",
    "\n",
    "$$\n",
    "\\Rightarrow Y_{pred} = UU^Ty\n",
    "$$\n"
   ]
  },
  {
   "cell_type": "markdown",
   "id": "753407cf",
   "metadata": {},
   "source": []
  },
  {
   "cell_type": "markdown",
   "id": "6b26ce6f",
   "metadata": {},
   "source": [
    "**Solution 3.**\n",
    "- **a)** This would be an implemention of \"economy\" SVD (an r-rank approximation):"
   ]
  },
  {
   "cell_type": "code",
   "execution_count": 129,
   "id": "1e89c6ac",
   "metadata": {},
   "outputs": [],
   "source": [
    "#modify svd_ols to be for rank_deficient approximations\n",
    "def svd_ols_lowrank(X,y,r):\n",
    "    U, Sigma_values, V_transpose = np.linalg.svd(X,full_matrices=False)\n",
    "    U_r = U[:,0:r] #create a U matrix with r columns as opposed to p columns, of course including all rows\n",
    "    V_transpose_r = V_transpose[0:r,:]\n",
    "    Sigma_r = np.diag(Sigma_values[0:r]) #r singular values matrix r x r\n",
    "    A = V_transpose_r.T @ np.linalg.inv(Sigma_r)\n",
    "    b = U_r.T @ y\n",
    "    beta = A @ b\n",
    "\n",
    "    return beta"
   ]
  },
  {
   "cell_type": "code",
   "execution_count": 130,
   "id": "6b4b990e",
   "metadata": {},
   "outputs": [
    {
     "data": {
      "text/plain": [
       "array([ 0.03112502, -0.0430854 , -0.16394756,  0.03728632,  0.03755968,\n",
       "       -0.04653204, -0.04193316,  0.13440484, -0.02375678, -0.02505815,\n",
       "        0.26185551,  0.02535527, -0.04744292, -0.01710232, -0.03823046,\n",
       "       -0.01175641,  0.06146285, -0.16952398, -0.01660738, -0.10822824])"
      ]
     },
     "execution_count": 130,
     "metadata": {},
     "output_type": "execute_result"
    }
   ],
   "source": [
    "#test to see if it works\n",
    "beta_lowrank= svd_ols_lowrank(X,y,10)\n",
    "beta_lowrank"
   ]
  },
  {
   "cell_type": "code",
   "execution_count": 131,
   "id": "8947a6e3",
   "metadata": {},
   "outputs": [],
   "source": [
    "def change_rank(X,y,r):\n",
    "    U, Sigma_values, V_transpose = np.linalg.svd(X,full_matrices=False)\n",
    "    #take the inverse of the matrix then set p-r columns to 0\n",
    "    p = len(Sigma_values)\n",
    "    number_zero_diags = p - r\n",
    "    #make a sigma matrix and take an inverse of dat bih\n",
    "    sigma_inverse_values = 1/Sigma_values\n",
    "    low_rank_values = np.append(sigma_inverse_values[:r],np.zeros(number_zero_diags))\n",
    "\n",
    "    #define the new Sigma matrix with the correct number of zeros on the diagonal\n",
    "    sigma_inverse_matrix = np.diag(low_rank_values)\n",
    "\n",
    "    #produce estimate\n",
    "    A = V_transpose.T @ sigma_inverse_matrix\n",
    "    b = U.T @ y\n",
    "    beta = A @ b\n",
    "\n",
    "    return beta"
   ]
  },
  {
   "cell_type": "code",
   "execution_count": 132,
   "id": "4ff4a63e",
   "metadata": {},
   "outputs": [
    {
     "data": {
      "text/plain": [
       "array([ 0.03112502, -0.0430854 , -0.16394756,  0.03728632,  0.03755968,\n",
       "       -0.04653204, -0.04193316,  0.13440484, -0.02375678, -0.02505815,\n",
       "        0.26185551,  0.02535527, -0.04744292, -0.01710232, -0.03823046,\n",
       "       -0.01175641,  0.06146285, -0.16952398, -0.01660738, -0.10822824])"
      ]
     },
     "execution_count": 132,
     "metadata": {},
     "output_type": "execute_result"
    }
   ],
   "source": [
    "change_rank(X,y,10)"
   ]
  },
  {
   "cell_type": "markdown",
   "id": "634fe776",
   "metadata": {},
   "source": [
    "### Exercise 3 (Subset selection)  (15 pts)\n",
    "\n",
    "Recall the subset selection problem with tuning parameter $k$,\n",
    "$$\n",
    "\\min_{\\beta : \\| \\beta \\|_0 \\le k}\\| y - X \\beta \\|_2^2,\n",
    "$$\n",
    "where $\\|\\beta\\|_0 = \\#\\{j = 1\\,\\ldots,p : \\beta_j \\ne 0 \\}$.\n",
    "\n",
    "Notice that we can write this as \n",
    "$$\n",
    "\\min_{\\beta : |{\\rm supp}(\\beta)| \\le k}\\| y - X \\beta \\|_2^2,\n",
    "$$\n",
    "where \n",
    "${\\rm supp}(\\beta) = \\{j = 1\\,\\ldots,p : \\beta_j \\ne 0 \\}$ (${\\rm supp}(\\beta)$ is the support of $\\beta$).\n",
    "\n",
    "1. (5 points) Write the subset selection problem in the following form\n",
    "$$\n",
    "\\min_{S \\subseteq \\{1,\\ldots,p\\}, |S|\\le k} y^\\top P_S y,\n",
    "$$\n",
    "where $P_S$ is a projection.  \n",
    "2. (10 points) Suppose that we have a nested sequence of models $S_1\\subset S_2 \\subset \\ldots \\subset S_p$ such that $|S_k| = k$ ($|S_k|$ is the cardinality of $S_k$, meaning that it contains $k$ variables).  Prove that $$y^\\top P_{S_k} y \\ge y^\\top P_{S_{k+1}} y$$ for $k=1,\\ldots,p-1$.  What does this tell us about the solution to the subset selection problem and the constraint $|S| \\le k$?\n",
    "\n",
    "(Hint: using the fact that $X^TX$ is positive definite, write $X^TX= VDV^T$)"
   ]
  },
  {
   "cell_type": "markdown",
   "id": "75430061",
   "metadata": {},
   "source": [
    "**Solution 1.**\n",
    "\n",
    "Note that we can rewrite \n",
    "$$\n",
    "\\min_{\\beta : |{\\rm supp}(\\beta)| \\le k}\\| y - X \\beta \\|_2^2,\n",
    "$$ \n",
    "\n",
    "as \n",
    "\n",
    "$$\n",
    "\\min_{\\beta : |{\\rm supp}(\\beta)| \\le k}\\| y - X(X^TX)^{-1}X^Ty \\|_2^2, \\Rightarrow \n",
    "\n",
    "$$\n",
    "\n",
    "Noting that $X(X^TX)^{-1}X^T = H$, Simplifying:\n",
    "\n",
    "$$\n",
    "\\| y - Hy \\|_2^2 \\Rightarrow Y^T(I - H)^T(I - H)Y \n",
    "\n",
    "\\Rightarrow Y^T(I^TI - I^TH - H^TI + H^TH)Y \\\\ \\Rightarrow Y^T(I - H)Y\n",
    "$$\n",
    "\n",
    "Letting $(I - H)$ be denoted $P_s$ we have\n",
    "$$\n",
    "=\n",
    "\\min_{S \\subseteq \\{1,\\ldots,p\\}, |S|\\le k} y^\\top P_S y,\n",
    "$$"
   ]
  },
  {
   "cell_type": "markdown",
   "id": "8e21d8ca",
   "metadata": {},
   "source": [
    "**Solution 2.**\n",
    "\n",
    "Starting from\n",
    "\n",
    "$$\n",
    "y^\\top P_{S_k} y \\ge y^\\top P_{S_{k+1}} y \n",
    "$$\n",
    "for $k=1,\\ldots,p-1$\n",
    "\n",
    "Note this can be re-written as:\n",
    "\n",
    "$$\n",
    "y^T(I - H)_{k}y \\ge y^T(I - H)_{k+1}y\n",
    "$$\n",
    "\n",
    "Simplifying, this expression can be re-written as:\n",
    "$$\n",
    "y^TH_ky \\le y^TH_{k+1}y\n",
    "$$\n",
    "\n",
    "Recall that we have $\\hat{\\beta}_k = VD^{-1}_kU^Ty$. Therefore, $H_k = XVD^{-1}_kU^T = UDD^{-1}_kU^T$. Note that $VD^{-1}_kU^T$ was obtained from the expression of $\\hat{\\beta}_k = VD^{-1}_kU^Ty$.\n"
   ]
  },
  {
   "cell_type": "markdown",
   "id": "562fe387",
   "metadata": {},
   "source": [
    "Substituting our expression for $H_k$ and $H_{k+1}$ we obtain:\n",
    "\n",
    "$$\n",
    "\n",
    "y^TUDD^{-1}_kU^Ty \\le y^TUDD^{-1}_{k+1}U^Ty\n",
    "\n",
    "$$\n"
   ]
  },
  {
   "cell_type": "markdown",
   "id": "fa653dfb",
   "metadata": {},
   "source": [
    "**Note:** It is important to note that $DD_k^{-1}$ is a $p \\times p$ Identity matrix with $k$ $1s$ on the diagonal, with the remainder of the $p-k$ columns having $0$ on the diagonal.\n",
    "\n",
    "Similarly, $DD_{k+1}^{-1}$ is a $p \\times p$ Identity matrix with $k + 1$ $1s$ on the diagonal, with the remainder of the $p-(k + 1)$ columns having $0$ on the diagonal.\n"
   ]
  },
  {
   "cell_type": "markdown",
   "id": "2969cc04",
   "metadata": {},
   "source": [
    "Simplifying the Left and Right-hand side, the vector and matrix products can be represented as the following:\n",
    "\n",
    "$$\n",
    "\\sum^k_{j = 1} (\\sum^n_{i = 1}y_iu_{ij})^2 \\le \\sum^{k+1}_{j = 1} (\\sum^n_{i = 1}y_iu_{ij})^2 = y^\\top P_{S_k} y \\ge y^\\top P_{S_{k+1}} y \n",
    "$$ \n",
    "for $k=1,\\ldots,p-1$\n",
    "\n",
    "This expression can be understood to represent the fact that the *error* (ie, MSE) for a given model with $k$ parameters, which is a subset of a model with $k+1$ parameters, will *always* be greater than or equal to the error of the model with $k + 1$ parameters."
   ]
  },
  {
   "cell_type": "markdown",
   "id": "c1e8672a",
   "metadata": {},
   "source": [
    "### Exercise 4 (Ridge, lasso and adaptive lasso) (40 pts, 5 pts each)\n",
    "\n",
    "For this exercise, it may be helpful to use the `sklearn.linear_model` module.  I have also included a plotting tool for making the lasso path in ESL.\n",
    "\n",
    "1. Load the training and test data using the script below.  Fit OLS on the training dataset and compute the test error.  Throughout you do not need to compute an intercept but you should normalize the $X$ (divide by the column norms).\n",
    "2. Ridge regression:\n",
    "    - a) Train and tune ridge regression using a validation set (choose LOOCV) and compute the test error (square error loss).\n",
    "    - b) Repeat a) but using K-fold (you can choose $K= 5$ or 10) cross validation, compute the test error. Compare the result to a). Comment on what you found.\n",
    "3. Fit the lasso path with lars to the data and compute the test error for each returned lasso coefficient.\n",
    "4. Perform 3 without the lasso modification generating the lars path.  Compare and contrast the lars path to the lasso path, what is the key difference.  Tell me when the active sets differ and how, if they do at all.\n",
    "5. Fit the lasso path with coordinate descent to the data. Compare the lasso path using coordinate descent with the path using lars. Comment on what you found.\n",
    "6. Extract each active set from the lasso path and recompute the restricted OLS for each.  Compute and compare the test error for each model.\n",
    "7. Read this website [click here](https://towardsdatascience.com/an-adaptive-lasso-63afca54b80d). Fit the adaptive lasso method to the data. Compare the test error between the adaptive lasso and lasso for each returned coefficient. Comment on what you found."
   ]
  },
  {
   "cell_type": "markdown",
   "id": "2ec7193b",
   "metadata": {},
   "source": [
    "**Solution 1.**\n"
   ]
  },
  {
   "cell_type": "markdown",
   "id": "f7ed35cc",
   "metadata": {},
   "source": []
  },
  {
   "cell_type": "code",
   "execution_count": 133,
   "id": "85814dce",
   "metadata": {},
   "outputs": [
    {
     "name": "stdout",
     "output_type": "stream",
     "text": [
      "the test error (MSE) is:  5209.316270857285\n"
     ]
    }
   ],
   "source": [
    "import pickle\n",
    "from sklearn.linear_model import LinearRegression\n",
    "from sklearn.preprocessing import normalize\n",
    "from sklearn.model_selection import train_test_split\n",
    "from sklearn.metrics import mean_squared_error\n",
    "from sklearn.preprocessing import StandardScaler\n",
    "with open('hw1.data','rb') as f: #load training and test data\n",
    "    y_train,X_train,y_test,X_test = pickle.load(f)\n",
    "\n",
    "\n",
    "X_train_scaled = normalize(X_train, axis = 0)\n",
    "#combine training and test data for X value and normalize values\n",
    "# X_all = normalize(np.concatenate((X_train,X_test)))\n",
    "\n",
    "\n",
    "# #combine all y values and normalize as well\n",
    "# y_all = np.concatenate((y_train,y_test))\n",
    "\n",
    "#split X_all into train_and\n",
    "# X_train_scaled, X_test_scaled, y_train, y_test = train_test_split(X_all, y_all, test_size= .5)\n",
    "\n",
    "\n",
    "\n",
    "#fit linear model to training data\n",
    "linear_model = LinearRegression(fit_intercept=False).fit(X_train_scaled,y = y_train)\n",
    "\n",
    "#predict y values so can later compute test error\n",
    "y_hat = linear_model.predict(X_test)\n",
    "\n",
    "#compute test error\n",
    "mse = mean_squared_error(y_true=y_test,y_pred=y_hat)\n",
    "print(\"the test error (MSE) is:  {}\".format(mse))\n"
   ]
  },
  {
   "cell_type": "markdown",
   "id": "cdac9c3f",
   "metadata": {},
   "source": [
    "**Solution 2.**\n",
    "- **a)**"
   ]
  },
  {
   "cell_type": "code",
   "execution_count": 134,
   "id": "8e6ca9dd",
   "metadata": {},
   "outputs": [
    {
     "name": "stdout",
     "output_type": "stream",
     "text": [
      "Ridge LOOCV MSE:   3651.768250548872\n"
     ]
    }
   ],
   "source": [
    "#Ridge Regression using leave one out cross-validation\n",
    "from sklearn.linear_model import Ridge, RidgeCV\n",
    "from sklearn.metrics import r2_score\n",
    "import numpy as np\n",
    "from sklearn.model_selection import RepeatedKFold\n",
    "from sklearn.model_selection import cross_val_score,KFold, LeaveOneOut\n",
    "import pandas as pd\n",
    "#fit using RidgeCV since it defaults to LOOCV, then calculate MSE\n",
    "#first define list of hyperparameters \n",
    "\n",
    "\n",
    "#fit and calcualte the test error/CV score\n",
    "# score=cross_val_score(Ridge(),X_all,y_all,cv = LeaveOneOut(), scoring = \"neg_mean_squared_error\")\n",
    "# print(\"Average Cross Validation score:    {}\".format(score.mean()))\n",
    "\n",
    "# ridge_model_loocv = RidgeCV(alphas = hyperparams,scoring = \"neg_mean_squared_error\").fit(X_all,y_all)\n",
    "\n",
    "\n",
    "#fit Ridge model with LOOCV\n",
    "#define LOGSPACE!\n",
    "\n",
    "ridge_model_loocv = RidgeCV(scoring = \"neg_mean_squared_error\", fit_intercept=False).fit(X_train_scaled,y_train)\n",
    "\n",
    "#generate predictions\n",
    "ridge_predictions = ridge_model_loocv.predict(X_test)\n",
    "\n",
    "ridge_error = mean_squared_error(y_true=y_test, y_pred = ridge_predictions)\n",
    "print(\"Ridge LOOCV MSE:   {}\".format(ridge_error))\n",
    "\n"
   ]
  },
  {
   "cell_type": "markdown",
   "id": "ba2e3c3b",
   "metadata": {},
   "source": [
    "- **b)**"
   ]
  },
  {
   "cell_type": "code",
   "execution_count": 135,
   "id": "17086c81",
   "metadata": {},
   "outputs": [
    {
     "name": "stdout",
     "output_type": "stream",
     "text": [
      "K = 5 Fold CV Test Error (MSE):   3651.768250548835\n"
     ]
    }
   ],
   "source": [
    "#repeating a) using k= 5 and k = 10 fold cross-validation\n",
    "\n",
    "#first k = 5\n",
    "#fit using RidgeCV since it defaults to LOOCV, then calculate MSE\n",
    "\n",
    "# ridge_model_5fold = RidgeCV(cv = 5).fit(X_all,y_all) #fit the model\n",
    "\n",
    "# #predict using test data \n",
    "# y_hat_ridge = ridge_model_5fold.predict(X_test)\n",
    "\n",
    "# #calculate MSE\n",
    "# fold5_mse = mean_squared_error(y_true= y_te,y_pred=y_hat_ridge)\n",
    "# #calculate R2\n",
    "# fold5_r2 = r2_score(y_true= y_te, y_pred= y_hat_ridge)\n",
    "\n",
    "# print(\"MSE using K = 5 Fold CV:  {} \".format(fold5_mse))\n",
    "# print(\"R^2 using K = 5 Fold CV:  {} \".format(fold5_r2))\n",
    "\n",
    "#fit ridge model with training data and do k = 5 fold cross-validation\n",
    "ridge_5fold = RidgeCV(scoring = \"neg_mean_squared_error\", cv = 5, fit_intercept = False).fit(X_train_scaled,y_train)\n",
    "\n",
    "#generate predictions\n",
    "fold5_predictions = ridge_5fold.predict(X_test)\n",
    "\n",
    "#calculate mse\n",
    "mse = mean_squared_error(y_pred = fold5_predictions, y_true = y_test)\n",
    "\n",
    "print(\"K = 5 Fold CV Test Error (MSE):   {}\".format(mse))\n",
    "\n"
   ]
  },
  {
   "cell_type": "code",
   "execution_count": 136,
   "id": "bd0c81b8",
   "metadata": {},
   "outputs": [
    {
     "name": "stdout",
     "output_type": "stream",
     "text": [
      "K = 10 Fold CV Test Error (MSE):   3651.768250548835\n"
     ]
    }
   ],
   "source": [
    "#fit ridge model with training data\n",
    "ridge_10fold = RidgeCV(scoring = \"neg_mean_squared_error\", cv = 10, fit_intercept = False).fit(X_train_scaled,y_train)\n",
    "\n",
    "#generate predictions\n",
    "fold10_predictions = ridge_10fold.predict(X_test)\n",
    "\n",
    "#calculate mse\n",
    "mse = mean_squared_error(y_pred = fold10_predictions, y_true = y_test)\n",
    "\n",
    "print(\"K = 10 Fold CV Test Error (MSE):   {}\".format(mse))"
   ]
  },
  {
   "cell_type": "markdown",
   "id": "d39e4de2",
   "metadata": {},
   "source": [
    "the Ridge regression model produced using using $K = 5$ and $K = 10$ cross-validation *slightly* outperforms the Ridge models fit with LOOCV."
   ]
  },
  {
   "cell_type": "markdown",
   "id": "32fa075f",
   "metadata": {},
   "source": [
    "**Solution 3.** "
   ]
  },
  {
   "cell_type": "code",
   "execution_count": 137,
   "id": "8629e34a",
   "metadata": {},
   "outputs": [
    {
     "name": "stdout",
     "output_type": "stream",
     "text": [
      "Test MSE for model_0 :     6.056548975647524\n",
      "Test MSE for model_1 :     828.3129970133779\n",
      "Test MSE for model_2 :     2103.2714325155403\n",
      "Test MSE for model_3 :     2733.1610924925544\n",
      "Test MSE for model_4 :     3641.9392653571176\n",
      "Test MSE for model_5 :     3675.672812814707\n",
      "Test MSE for model_6 :     3835.698935807265\n",
      "Test MSE for model_7 :     3870.51477476869\n",
      "Test MSE for model_8 :     3961.786362646945\n",
      "Test MSE for model_9 :     3970.7311162693313\n",
      "Test MSE for model_10 :     3972.218111274531\n",
      "Test MSE for model_11 :     3973.3567632436834\n",
      "Test MSE for model_12 :     3975.9204029918583\n",
      "Test MSE for model_13 :     3976.9030551120677\n",
      "Test MSE for model_14 :     3991.642025379816\n",
      "Test MSE for model_15 :     4006.7770984181175\n",
      "Test MSE for model_16 :     4016.601058201926\n",
      "Test MSE for model_17 :     4028.933386696341\n",
      "Test MSE for model_18 :     4072.1553510813574\n",
      "Test MSE for model_19 :     4091.79072028472\n",
      "Test MSE for model_20 :     4107.482415143124\n",
      "Test MSE for model_21 :     4110.1380128677665\n",
      "Test MSE for model_22 :     4112.654250870586\n",
      "Test MSE for model_23 :     4117.353104270955\n",
      "Test MSE for model_24 :     4135.6905305518485\n",
      "Test MSE for model_25 :     4137.928449453577\n",
      "Test MSE for model_26 :     4138.9837267337025\n",
      "Test MSE for model_27 :     4166.811611793725\n",
      "Test MSE for model_28 :     4173.9311307205035\n",
      "Test MSE for model_29 :     4178.975813334541\n",
      "Test MSE for model_30 :     4181.908114091247\n",
      "Test MSE for model_31 :     4193.358373902483\n",
      "Test MSE for model_32 :     4205.518532738201\n",
      "Test MSE for model_33 :     4210.42157474755\n",
      "Test MSE for model_34 :     4237.739331997007\n",
      "Test MSE for model_35 :     4262.026039546496\n",
      "Test MSE for model_36 :     4264.701263198624\n",
      "Test MSE for model_37 :     4285.840949267353\n",
      "Test MSE for model_38 :     4288.447584158904\n",
      "Test MSE for model_39 :     4300.8689114277795\n",
      "Test MSE for model_40 :     4313.1343094967015\n",
      "Test MSE for model_41 :     4315.498611045048\n",
      "Test MSE for model_42 :     4316.6237260449025\n",
      "Test MSE for model_43 :     4322.919447722245\n",
      "Test MSE for model_44 :     4348.064334624087\n",
      "Test MSE for model_45 :     4350.084939075405\n",
      "Test MSE for model_46 :     4382.393124980751\n",
      "Test MSE for model_47 :     4392.574385750015\n",
      "Test MSE for model_48 :     4399.877812102814\n",
      "Test MSE for model_49 :     4402.160581112153\n",
      "Test MSE for model_50 :     4405.831650882705\n",
      "Test MSE for model_51 :     4417.861103200296\n",
      "Test MSE for model_52 :     4421.557455847735\n",
      "Test MSE for model_53 :     4439.578221403279\n",
      "Test MSE for model_54 :     4439.875480105445\n",
      "Test MSE for model_55 :     4442.272221034601\n",
      "Test MSE for model_56 :     4455.98658025796\n",
      "Test MSE for model_57 :     4456.898258873264\n",
      "Test MSE for model_58 :     4476.374936861351\n",
      "Test MSE for model_59 :     4477.050161288498\n",
      "Test MSE for model_60 :     4497.090244123749\n",
      "Test MSE for model_61 :     4498.051416873015\n",
      "Test MSE for model_62 :     4512.282575029493\n",
      "Test MSE for model_63 :     4512.892201389072\n",
      "Test MSE for model_64 :     4529.1879771957265\n",
      "Test MSE for model_65 :     4539.086587642186\n",
      "Test MSE for model_66 :     4557.6327993659015\n",
      "Test MSE for model_67 :     4581.300854874049\n",
      "Test MSE for model_68 :     4591.6098283085685\n",
      "Test MSE for model_69 :     4598.704364212383\n",
      "Test MSE for model_70 :     4628.687345288819\n",
      "Test MSE for model_71 :     4639.04368359011\n",
      "Test MSE for model_72 :     4650.151669087136\n",
      "Test MSE for model_73 :     4650.415569369893\n",
      "Test MSE for model_74 :     4718.30099723532\n",
      "Test MSE for model_75 :     4723.501308383313\n",
      "Test MSE for model_76 :     4738.80616384388\n",
      "Test MSE for model_77 :     4752.745193699934\n",
      "Test MSE for model_78 :     4754.3404650578495\n",
      "Test MSE for model_79 :     4757.437276038531\n",
      "Test MSE for model_80 :     4765.635909627608\n",
      "Test MSE for model_81 :     4770.697727231968\n",
      "Test MSE for model_82 :     4779.158591165204\n",
      "Test MSE for model_83 :     4798.897215632903\n",
      "Test MSE for model_84 :     4803.694932841072\n",
      "Test MSE for model_85 :     4811.243257592058\n",
      "Test MSE for model_86 :     4837.173046027502\n",
      "Test MSE for model_87 :     4844.61951392577\n",
      "Test MSE for model_88 :     4859.665992774366\n",
      "Test MSE for model_89 :     4937.701783680145\n",
      "Test MSE for model_90 :     4946.957496201953\n",
      "Test MSE for model_91 :     4952.421012933355\n",
      "Test MSE for model_92 :     4959.1633627003885\n",
      "Test MSE for model_93 :     5023.597057433369\n",
      "Test MSE for model_94 :     5042.963300295095\n",
      "Test MSE for model_95 :     5100.837785903447\n",
      "Test MSE for model_96 :     5113.777282098003\n",
      "Test MSE for model_97 :     5120.230166526901\n",
      "Test MSE for model_98 :     5132.38880861438\n",
      "Test MSE for model_99 :     5174.505698955799\n",
      "Test MSE for model_100 :     5183.848141813139\n",
      "Test MSE for model_101 :     5193.018833753685\n",
      "Test MSE for model_102 :     5209.316270857304\n"
     ]
    }
   ],
   "source": [
    "# Fit the lasso path with lars to the data and compute the test error for each returned lasso coefficient.\n",
    "from sklearn.linear_model import lars_path\n",
    "alphas, active, coefs = lars_path(X = X_train_scaled, y = y_train , method = \"lasso\") \n",
    "\n",
    "#generate predictions\n",
    "\n",
    "n_cols = coefs.shape[1] #going to use this to loop over the columns of the lars_lasso_predictions \n",
    "    \n",
    "for i in range(n_cols): #calculate the test mse for each coefficient and print it\n",
    "    lars_lasso_predictions = X_test @ coefs[:,i]\n",
    "    mse = mean_squared_error(y_true=y_test, y_pred = lars_lasso_predictions)\n",
    "    print(\"Test MSE for model_{} :     {}\".format(i,mse))"
   ]
  },
  {
   "cell_type": "code",
   "execution_count": null,
   "id": "7c567626",
   "metadata": {},
   "outputs": [],
   "source": []
  },
  {
   "cell_type": "code",
   "execution_count": 138,
   "id": "9a2541fd",
   "metadata": {},
   "outputs": [],
   "source": [
    "def plot_lars(coefs, lines=False, title=\"Lars Path\"):\n",
    "    \"\"\"\n",
    "    Plot the lasso path where coefs is a matrix - the columns are beta vectors\n",
    "    \"\"\"\n",
    "    xx = np.sum(np.abs(coefs.T), axis=1)\n",
    "    xx /= xx[-1]\n",
    "    plt.plot(xx, coefs.T)\n",
    "    ymin, ymax = plt.ylim()\n",
    "    if lines:\n",
    "        plt.vlines(xx, ymin, ymax, linestyle='dashed')\n",
    "    plt.xlabel('|coef| / max|coef|')\n",
    "    plt.ylabel('Coefficients')\n",
    "    plt.title(title)\n",
    "    plt.axis('tight')\n",
    "\n"
   ]
  },
  {
   "cell_type": "code",
   "execution_count": 139,
   "id": "be4084bf",
   "metadata": {},
   "outputs": [
    {
     "data": {
      "image/png": "[encoded data removed]",
      "text/plain": [
       "<Figure size 432x288 with 1 Axes>"
      ]
     },
     "metadata": {},
     "output_type": "display_data"
    }
   ],
   "source": [
    "plot_lars(coefs = coefs, title = \"LARS Path with Lasso\")"
   ]
  },
  {
   "cell_type": "markdown",
   "id": "82158bba",
   "metadata": {},
   "source": [
    "**Solution 4.**\n"
   ]
  },
  {
   "cell_type": "code",
   "execution_count": 140,
   "id": "50b796c5",
   "metadata": {},
   "outputs": [
    {
     "name": "stdout",
     "output_type": "stream",
     "text": [
      "Test MSE for model_0 :     6.056548975647524\n",
      "Test MSE for model_1 :     828.3129970133779\n",
      "Test MSE for model_2 :     2103.2714325155403\n",
      "Test MSE for model_3 :     2733.1610924925544\n",
      "Test MSE for model_4 :     3641.939265357117\n",
      "Test MSE for model_5 :     3675.672812814707\n",
      "Test MSE for model_6 :     3835.698935807265\n",
      "Test MSE for model_7 :     3870.51477476869\n",
      "Test MSE for model_8 :     3961.786362646945\n",
      "Test MSE for model_9 :     3970.7311162693313\n",
      "Test MSE for model_10 :     3972.218111274531\n",
      "Test MSE for model_11 :     3973.3567632436834\n",
      "Test MSE for model_12 :     3975.9204029918587\n",
      "Test MSE for model_13 :     3976.9030551120677\n",
      "Test MSE for model_14 :     3991.642025379816\n",
      "Test MSE for model_15 :     4006.7770984181175\n",
      "Test MSE for model_16 :     4016.6010582019267\n",
      "Test MSE for model_17 :     4028.9333866963416\n",
      "Test MSE for model_18 :     4072.1553510813574\n",
      "Test MSE for model_19 :     4091.79072028472\n",
      "Test MSE for model_20 :     4107.482415143124\n",
      "Test MSE for model_21 :     4110.1380128677665\n",
      "Test MSE for model_22 :     4112.654250870586\n",
      "Test MSE for model_23 :     4117.353104270955\n",
      "Test MSE for model_24 :     4135.6905305518485\n",
      "Test MSE for model_25 :     4137.928449453577\n",
      "Test MSE for model_26 :     4138.983726733702\n",
      "Test MSE for model_27 :     4166.811611793725\n",
      "Test MSE for model_28 :     4173.931130720503\n",
      "Test MSE for model_29 :     4178.975813334541\n",
      "Test MSE for model_30 :     4181.908114091248\n",
      "Test MSE for model_31 :     4193.358373902483\n",
      "Test MSE for model_32 :     4205.518532738201\n",
      "Test MSE for model_33 :     4210.42157474755\n",
      "Test MSE for model_34 :     4237.739331997007\n",
      "Test MSE for model_35 :     4262.026039546495\n",
      "Test MSE for model_36 :     4264.701263198624\n",
      "Test MSE for model_37 :     4285.840949267352\n",
      "Test MSE for model_38 :     4288.447584158904\n",
      "Test MSE for model_39 :     4300.868911427779\n",
      "Test MSE for model_40 :     4313.1343094967015\n",
      "Test MSE for model_41 :     4315.498611045047\n",
      "Test MSE for model_42 :     4316.623726044903\n",
      "Test MSE for model_43 :     4322.919447722245\n",
      "Test MSE for model_44 :     4348.064334624087\n",
      "Test MSE for model_45 :     4350.084939075405\n",
      "Test MSE for model_46 :     4382.393124980753\n",
      "Test MSE for model_47 :     4392.574385750015\n",
      "Test MSE for model_48 :     4399.877812102814\n",
      "Test MSE for model_49 :     4402.160581112153\n",
      "Test MSE for model_50 :     4405.831650882705\n",
      "Test MSE for model_51 :     4417.861103200296\n",
      "Test MSE for model_52 :     4421.557455847735\n",
      "Test MSE for model_53 :     4439.578221403279\n",
      "Test MSE for model_54 :     4439.875480105445\n",
      "Test MSE for model_55 :     4442.272221034601\n",
      "Test MSE for model_56 :     4455.98658025796\n",
      "Test MSE for model_57 :     4456.898258873265\n",
      "Test MSE for model_58 :     4476.374936861351\n",
      "Test MSE for model_59 :     4477.050161288498\n",
      "Test MSE for model_60 :     4497.090244123748\n",
      "Test MSE for model_61 :     4498.051416873015\n",
      "Test MSE for model_62 :     4512.282575029493\n",
      "Test MSE for model_63 :     4512.892201389072\n",
      "Test MSE for model_64 :     4529.1879771957265\n",
      "Test MSE for model_65 :     4539.086587642186\n",
      "Test MSE for model_66 :     4557.632799365901\n",
      "Test MSE for model_67 :     4581.30085487405\n",
      "Test MSE for model_68 :     4591.609828308568\n",
      "Test MSE for model_69 :     4598.704364212383\n",
      "Test MSE for model_70 :     4638.224514415397\n",
      "Test MSE for model_71 :     4655.8630930796735\n",
      "Test MSE for model_72 :     4665.960124636486\n",
      "Test MSE for model_73 :     4668.386282942624\n",
      "Test MSE for model_74 :     4774.640804589417\n",
      "Test MSE for model_75 :     4781.88497222045\n",
      "Test MSE for model_76 :     4794.564299707838\n",
      "Test MSE for model_77 :     4806.478730802767\n",
      "Test MSE for model_78 :     4819.929960186517\n",
      "Test MSE for model_79 :     4825.358154926175\n",
      "Test MSE for model_80 :     4831.270813621109\n",
      "Test MSE for model_81 :     4848.5987818001995\n",
      "Test MSE for model_82 :     4872.362414225909\n",
      "Test MSE for model_83 :     4892.270583896165\n",
      "Test MSE for model_84 :     4892.745448098027\n",
      "Test MSE for model_85 :     4895.978742270986\n",
      "Test MSE for model_86 :     4987.540037678575\n",
      "Test MSE for model_87 :     5003.428408037206\n",
      "Test MSE for model_88 :     5060.2320148999315\n",
      "Test MSE for model_89 :     5088.976286251164\n",
      "Test MSE for model_90 :     5094.819856230183\n",
      "Test MSE for model_91 :     5144.402743638145\n",
      "Test MSE for model_92 :     5200.713070175324\n",
      "Test MSE for model_93 :     5212.848948283147\n",
      "Test MSE for model_94 :     5221.618554240078\n",
      "Test MSE for model_95 :     5226.5567282292195\n",
      "Test MSE for model_96 :     5251.428794896589\n",
      "Test MSE for model_97 :     5288.595455573275\n",
      "Test MSE for model_98 :     5299.095175643177\n",
      "Test MSE for model_99 :     5354.788664963435\n",
      "Test MSE for model_100 :     5355.638944981417\n",
      "Test MSE for model_101 :     5366.673809852181\n"
     ]
    }
   ],
   "source": [
    "#same as q3 but do not specify the method parameter to \"lasso\"\n",
    "alphas, active, coefs = lars_path(X = X_train_scaled, y = y_train) \n",
    "\n",
    "\n",
    "#generate lars predictions\n",
    "lars_predictions = X_test @ coefs\n",
    "\n",
    "n_cols = lars_predictions.shape[1]\n",
    "\n",
    "for i in range(n_cols): #calculate the test mse for each coefficient and print it\n",
    "    mse = mean_squared_error(y_true=y_test, y_pred = lars_predictions[:,i])\n",
    "    print(\"Test MSE for model_{} :     {}\".format(i,mse))\n",
    "\n"
   ]
  },
  {
   "cell_type": "code",
   "execution_count": 141,
   "id": "cafa9ecf",
   "metadata": {},
   "outputs": [
    {
     "data": {
      "image/png": "[encoded data removed]",
      "text/plain": [
       "<Figure size 432x288 with 1 Axes>"
      ]
     },
     "metadata": {},
     "output_type": "display_data"
    }
   ],
   "source": [
    "plot_lars(coefs = coefs, title = \"LARS path\")"
   ]
  },
  {
   "cell_type": "markdown",
   "id": "ae233b11",
   "metadata": {},
   "source": [
    "The paths are super similar excpet for when the coefficients \"hit\" 0. In the lars path with lasso the coefficient is effectively dropped from the model by being equal to 0, while in the LARS path if and when a coefficient hits zero it can still stay in the active set. For example, in the \"LARS path\" plot above, note the gray line where the the coefficient enters the active set, then decreases and hits 0 briefly before becoming a negative coefficient. Meanwhile, the same coefficient in the \"LARS path with LASSO\" hits 0 and pretty much stays there."
   ]
  },
  {
   "cell_type": "markdown",
   "id": "e9614a58",
   "metadata": {},
   "source": [
    "**Solution 5.**"
   ]
  },
  {
   "cell_type": "code",
   "execution_count": 142,
   "id": "312ef8f5",
   "metadata": {},
   "outputs": [
    {
     "name": "stdout",
     "output_type": "stream",
     "text": [
      "Test MSE for Model_0 :     6.056548975647524\n",
      "Test MSE for Model_1 :     7.502922757658893\n",
      "Test MSE for Model_2 :     39.55332233192866\n",
      "Test MSE for Model_3 :     96.14623693962453\n",
      "Test MSE for Model_4 :     172.14954231409595\n",
      "Test MSE for Model_5 :     263.23002048306677\n",
      "Test MSE for Model_6 :     365.7405100734287\n",
      "Test MSE for Model_7 :     476.62234790919604\n",
      "Test MSE for Model_8 :     593.3210702633935\n",
      "Test MSE for Model_9 :     713.7136094390327\n",
      "Test MSE for Model_10 :     835.2772162337372\n",
      "Test MSE for Model_11 :     950.2626175870143\n",
      "Test MSE for Model_12 :     1071.7206184635825\n",
      "Test MSE for Model_13 :     1197.3625301364468\n",
      "Test MSE for Model_14 :     1325.2951956787683\n",
      "Test MSE for Model_15 :     1453.9629077996817\n",
      "Test MSE for Model_16 :     1582.0973317592461\n",
      "Test MSE for Model_17 :     1708.6743636062802\n",
      "Test MSE for Model_18 :     1832.8769925895658\n",
      "Test MSE for Model_19 :     1954.0633597508147\n",
      "Test MSE for Model_20 :     2071.7393116979065\n",
      "Test MSE for Model_21 :     2181.951209687315\n",
      "Test MSE for Model_22 :     2288.3764531725033\n",
      "Test MSE for Model_23 :     2392.1395283066818\n",
      "Test MSE for Model_24 :     2492.8323543977426\n",
      "Test MSE for Model_25 :     2590.1508767419873\n",
      "Test MSE for Model_26 :     2683.8780884572943\n",
      "Test MSE for Model_27 :     2770.390591589379\n",
      "Test MSE for Model_28 :     2850.427963336335\n",
      "Test MSE for Model_29 :     2928.3536984039274\n",
      "Test MSE for Model_30 :     3003.8825510637007\n",
      "Test MSE for Model_31 :     3076.8041898848796\n",
      "Test MSE for Model_32 :     3146.9708959371847\n",
      "Test MSE for Model_33 :     3214.2870339677315\n",
      "Test MSE for Model_34 :     3278.700054932442\n",
      "Test MSE for Model_35 :     3340.192819640373\n",
      "Test MSE for Model_36 :     3398.777059870271\n",
      "Test MSE for Model_37 :     3454.4878236717686\n",
      "Test MSE for Model_38 :     3507.378768132884\n",
      "Test MSE for Model_39 :     3557.518176802393\n",
      "Test MSE for Model_40 :     3604.9855724866325\n",
      "Test MSE for Model_41 :     3650.1261968506365\n",
      "Test MSE for Model_42 :     3692.3518742509873\n",
      "Test MSE for Model_43 :     3730.6918437587824\n",
      "Test MSE for Model_44 :     3766.986420743377\n",
      "Test MSE for Model_45 :     3801.303034181275\n",
      "Test MSE for Model_46 :     3833.7500595375086\n",
      "Test MSE for Model_47 :     3865.3967604257405\n",
      "Test MSE for Model_48 :     3895.121177007106\n",
      "Test MSE for Model_49 :     3923.182420487946\n",
      "Test MSE for Model_50 :     3949.6969107331397\n",
      "Test MSE for Model_51 :     3974.657705327886\n",
      "Test MSE for Model_52 :     3999.4135277845958\n",
      "Test MSE for Model_53 :     4025.1579899536227\n",
      "Test MSE for Model_54 :     4060.724971120642\n",
      "Test MSE for Model_55 :     4098.840396901717\n",
      "Test MSE for Model_56 :     4138.421156750297\n",
      "Test MSE for Model_57 :     4179.961616551711\n",
      "Test MSE for Model_58 :     4222.6147805883365\n",
      "Test MSE for Model_59 :     4264.838330393084\n",
      "Test MSE for Model_60 :     4305.901473526692\n",
      "Test MSE for Model_61 :     4346.047369474429\n",
      "Test MSE for Model_62 :     4385.636455180867\n",
      "Test MSE for Model_63 :     4423.6967000458335\n",
      "Test MSE for Model_64 :     4460.580272919783\n",
      "Test MSE for Model_65 :     4496.177825255045\n",
      "Test MSE for Model_66 :     4532.020511965642\n",
      "Test MSE for Model_67 :     4567.186294013481\n",
      "Test MSE for Model_68 :     4600.720086817306\n",
      "Test MSE for Model_69 :     4631.907074428645\n",
      "Test MSE for Model_70 :     4657.126030613769\n",
      "Test MSE for Model_71 :     4681.636575011011\n",
      "Test MSE for Model_72 :     4705.044423353749\n",
      "Test MSE for Model_73 :     4727.501493806429\n",
      "Test MSE for Model_74 :     4749.196749636286\n",
      "Test MSE for Model_75 :     4770.249964270947\n",
      "Test MSE for Model_76 :     4790.3321060746175\n",
      "Test MSE for Model_77 :     4809.236721703758\n",
      "Test MSE for Model_78 :     4827.070032084385\n",
      "Test MSE for Model_79 :     4843.791960881967\n",
      "Test MSE for Model_80 :     4865.499183017792\n",
      "Test MSE for Model_81 :     4886.242524612823\n",
      "Test MSE for Model_82 :     4905.863678752967\n",
      "Test MSE for Model_83 :     4924.3929753597695\n",
      "Test MSE for Model_84 :     4941.892716376112\n",
      "Test MSE for Model_85 :     4958.335289863398\n",
      "Test MSE for Model_86 :     4973.82149897842\n",
      "Test MSE for Model_87 :     4988.399303295821\n",
      "Test MSE for Model_88 :     5002.113108990555\n",
      "Test MSE for Model_89 :     5015.005869931722\n",
      "Test MSE for Model_90 :     5027.163187773785\n",
      "Test MSE for Model_91 :     5038.6457575225595\n",
      "Test MSE for Model_92 :     5049.529827389833\n",
      "Test MSE for Model_93 :     5059.734817993481\n",
      "Test MSE for Model_94 :     5069.302074896943\n",
      "Test MSE for Model_95 :     5078.270357333513\n",
      "Test MSE for Model_96 :     5086.712137698322\n",
      "Test MSE for Model_97 :     5094.588411281569\n",
      "Test MSE for Model_98 :     5101.958466047309\n",
      "Test MSE for Model_99 :     5108.893004449063\n"
     ]
    },
    {
     "data": {
      "image/png": "[encoded data removed]",
      "text/plain": [
       "<Figure size 432x288 with 1 Axes>"
      ]
     },
     "metadata": {},
     "output_type": "display_data"
    }
   ],
   "source": [
    "#Fit the lasso path with coordinate descent to the data. \n",
    "# Compare the lasso path using coordinate descent with the path using lars. Comment on what you found\n",
    "from sklearn.linear_model import lasso_path\n",
    "\n",
    "_, coef_path, _ = lasso_path(X_train_scaled, y_train) #obtain the coefficients\n",
    "\n",
    "n_cols = coef_path.shape[1] #going to use this to loop over the columns of the lars_lasso_predictions \n",
    "    \n",
    "for i in range(n_cols): #calculate the test mse for each coefficient and print it\n",
    "    lasso_predictions = X_test @ coef_path[:,i]\n",
    "    mse = mean_squared_error(y_true=y_test, y_pred = lasso_predictions)\n",
    "    print(\"Test MSE for Model_{} :     {}\".format(i,mse))\n",
    "\n",
    "plot_lars(coef_path, title = \"LASSO with Coordinate Descent\")"
   ]
  },
  {
   "cell_type": "markdown",
   "id": "bd62d6f6",
   "metadata": {},
   "source": [
    "For the most part, the plots appear the same! The only noticeable difference is the fact that the intersection of the green and blue lines do not intersect in the \"LASSO with Coordinate Descent\" plot whereas they do in the LARS path."
   ]
  },
  {
   "cell_type": "markdown",
   "id": "d5a50a2f",
   "metadata": {},
   "source": [
    "**Solution 6.**"
   ]
  },
  {
   "cell_type": "code",
   "execution_count": 143,
   "id": "e9eb0505",
   "metadata": {},
   "outputs": [],
   "source": [
    "# Extract each active set from the lasso path and recompute the restricted OLS for each.  \n",
    "# Compute and compare the test error for each model.\n",
    "\n",
    "alphas, active, coef_path_lars = lars_path(X_train_scaled, y_train, method='lasso') #need to store active set\n",
    "\n",
    "#list for storing restricted OLS MSEs\n",
    "error_list = []\n",
    "\n",
    "#list for storing number of variables in the models\n",
    "num_vars = []\n",
    "\n",
    "coefs_path_lars_subs = coef_path_lars[:,1:]\n",
    "\n",
    "for i in range(coefs_path_lars_subs.shape[1]):\n",
    "    index = np.where(coefs_path_lars_subs[:,i] != 0 )[0] #obtain the indices of which variables we will need to fit restr. OLS\n",
    "    X_train_scaled_subset = X_train_scaled[:,index] #select the correct variables from the active set during this iteration\n",
    "    X_test_subset = X_test[:,index]\n",
    "    restricted_model = LinearRegression(fit_intercept = False).fit(X_train_scaled_subset,y_train) #fit the restr. model\n",
    "    restricted_preds = restricted_model.predict(X_test_subset) #generate predictions\n",
    "    mse = mean_squared_error(y_true=y_test, y_pred=restricted_preds)\n",
    "    error_list.append(mse)\n",
    "    num_vars.append(X_train_scaled_subset.shape[1])\n",
    "\n"
   ]
  },
  {
   "cell_type": "code",
   "execution_count": 144,
   "id": "9169a0a9",
   "metadata": {},
   "outputs": [
    {
     "data": {
      "image/png": "[encoded data removed]",
      "text/plain": [
       "<Figure size 504x360 with 1 Axes>"
      ]
     },
     "metadata": {},
     "output_type": "display_data"
    }
   ],
   "source": [
    "plt.figure(figsize=(7,5))\n",
    "plt.plot(num_vars, error_list)\n",
    "plt.xlabel(\"Number of Variables\")\n",
    "plt.ylabel(\"Test MSE\")\n",
    "plt.title(\"Test MSE vs Number of Variables: Restricted OLS\")\n",
    "plt.show()"
   ]
  },
  {
   "cell_type": "markdown",
   "id": "bc308e53",
   "metadata": {},
   "source": [
    "**Solution 7.**\n"
   ]
  },
  {
   "cell_type": "code",
   "execution_count": 145,
   "id": "85d31115",
   "metadata": {},
   "outputs": [],
   "source": [
    "X_full = np.vstack([X_train, X_test])\n",
    "y_full = np.hstack([y_train, y_test])\n",
    "\n",
    "# normalize X\n",
    "X_full_scaled = normalize(X, norm='l2', axis=0)\n"
   ]
  },
  {
   "cell_type": "code",
   "execution_count": 146,
   "id": "5dd8bc12",
   "metadata": {},
   "outputs": [
    {
     "name": "stdout",
     "output_type": "stream",
     "text": [
      "LASSO Test MSE:   7.34985744154049\n"
     ]
    }
   ],
   "source": [
    "import asgl\n",
    "\n",
    "#create full dataset\n",
    "#merge train and test labels and normalize\n",
    "# lambda1 = np.linspace(0,1,num = 1000) #define list of possible hyperparameter values\n",
    "lambda1 = np.linspace(0,1,num = 1000)\n",
    "#create the adaptive lasso model\n",
    "\n",
    "\n",
    "lasso = asgl.TVT(model = 'lm', penalization='lasso',lambda1 = lambda1,\n",
    "                          error_type='MSE',weight_technique='lasso', parallel = True,\n",
    "                          random_state=1,\n",
    "                          train_pct=0.5 ,validate_pct= .25)\n",
    "lasso = lasso.train_validate_test(x = X_full_scaled,y = y_full)\n",
    "\n",
    "# output the test error\n",
    "lasso_error = lasso['test_error']\n",
    "print(\"LASSO Test MSE:   {}\".format(lasso_error))\n"
   ]
  },
  {
   "cell_type": "code",
   "execution_count": 147,
   "id": "dd536177",
   "metadata": {},
   "outputs": [
    {
     "name": "stdout",
     "output_type": "stream",
     "text": [
      "Adaptive LASSO Test MSE:   1.1045033492054344\n"
     ]
    }
   ],
   "source": [
    "\n",
    "\n",
    "#create the adaptive lasso model\n",
    "import asgl\n",
    "\n",
    "lambda1 = np.linspace(0,1,num = 1000) #define list of possible hyperparameter values\n",
    "\n",
    "#create the adaptive lasso model\n",
    "adaptive_lasso = asgl.TVT(model='lm', penalization='alasso', lambda1=lambda1, parallel=True,\n",
    "                     error_type='MSE', random_state=1, weight_technique = 'lasso',\n",
    "                     train_pct = .50, validate_pct = .25)\n",
    "adaptive_result = adaptive_lasso.train_validate_test(x=X_train_scaled, y=y_train)\n",
    "\n",
    "# calculate the test error: use the test error from the adaptive_results output\n",
    "\n",
    "#first need the list of predictions\n",
    "# adaptive_lasso_predictions = adaptive_lasso.predict(X_test)\n",
    "\n",
    "# #calculate the error\n",
    "# adaptive_error = asgl.error_calculator(y_true= y_test, prediction_list= adaptive_lasso_predictions,\n",
    "#                                         error_type = \"MSE\")\n",
    "\n",
    "print(\"Adaptive LASSO Test MSE:   {}\".format(adaptive_result[\"test_error\"]))\n",
    "\n",
    "\n"
   ]
  },
  {
   "cell_type": "markdown",
   "id": "18d45895",
   "metadata": {},
   "source": [
    "Based on the test error from each of the optimal models using LASSO and Adaptive LASSO, it is clear that the adaptive LASSO greatly outperforms ordinary LASSO regression by a factor of ~6x. "
   ]
  },
  {
   "cell_type": "markdown",
   "id": "af0a2130",
   "metadata": {},
   "source": []
  },
  {
   "cell_type": "code",
   "execution_count": null,
   "id": "d830978b",
   "metadata": {},
   "outputs": [],
   "source": []
  }
 ],
 "metadata": {
  "kernelspec": {
   "display_name": "Python 3",
   "language": "python",
   "name": "python3"
  },
  "language_info": {
   "codemirror_mode": {
    "name": "ipython",
    "version": 3
   },
   "file_extension": ".py",
   "mimetype": "text/x-python",
   "name": "python",
   "nbconvert_exporter": "python",
   "pygments_lexer": "ipython3",
   "version": "3.7.4"
  }
 },
 "nbformat": 4,
 "nbformat_minor": 5
}
