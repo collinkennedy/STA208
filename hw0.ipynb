{
 "cells": [
  {
   "cell_type": "code",
   "execution_count": 73,
   "metadata": {},
   "outputs": [],
   "source": [
    "\n",
    "#load necessary libraries\n",
    "import numpy as np\n",
    "from scipy.stats import multivariate_normal #will use in q3 for evaluating our function\n"
   ]
  },
  {
   "cell_type": "markdown",
   "metadata": {},
   "source": [
    "# **1)** Basic Exercises Using Numpy\n",
    "Consider the vector \n",
    "\n",
    "\n",
    "$$\n",
    "u = (1,2,3,3,2,1)^{T}\n",
    "$$\n",
    "\n",
    "**a)** Compute $U = I - \\frac{2}{u^{T}u}uu^T$\n"
   ]
  },
  {
   "cell_type": "code",
   "execution_count": 3,
   "metadata": {},
   "outputs": [
    {
     "name": "stdout",
     "output_type": "stream",
     "text": [
      "[1 2 3 3 2 1]\n"
     ]
    }
   ],
   "source": [
    "u = np.array([1,2,3,3,2,1]).T #initialize vector 'u'\n",
    "print(u)"
   ]
  },
  {
   "cell_type": "code",
   "execution_count": 4,
   "metadata": {},
   "outputs": [
    {
     "name": "stdout",
     "output_type": "stream",
     "text": [
      "[[ 0.92857143 -0.14285714 -0.21428571 -0.21428571 -0.14285714 -0.07142857]\n",
      " [-0.14285714  0.71428571 -0.42857143 -0.42857143 -0.28571429 -0.14285714]\n",
      " [-0.21428571 -0.42857143  0.35714286 -0.64285714 -0.42857143 -0.21428571]\n",
      " [-0.21428571 -0.42857143 -0.64285714  0.35714286 -0.42857143 -0.21428571]\n",
      " [-0.14285714 -0.28571429 -0.42857143 -0.42857143  0.71428571 -0.14285714]\n",
      " [-0.07142857 -0.14285714 -0.21428571 -0.21428571 -0.14285714  0.92857143]]\n"
     ]
    }
   ],
   "source": [
    "matrixU = np.identity(u.shape[0]) - (2/np.matmul(np.transpose(u),u))*np.outer(u,np.transpose(u)) # create the matrix 'U'\n",
    "print(matrixU)"
   ]
  },
  {
   "cell_type": "markdown",
   "metadata": {},
   "source": [
    "**b)** Let $C = UU$. Find the largest and smallest off diagonal elements of $C$."
   ]
  },
  {
   "cell_type": "code",
   "execution_count": 5,
   "metadata": {},
   "outputs": [
    {
     "name": "stdout",
     "output_type": "stream",
     "text": [
      "[[ 1.00000000e+00 -3.29597460e-17 -3.98986399e-17 -5.37764278e-17\n",
      "  -3.98986399e-17 -2.77555756e-17]\n",
      " [-3.29597460e-17  1.00000000e+00 -7.97972799e-17 -1.07552856e-16\n",
      "  -5.20417043e-17 -2.77555756e-17]\n",
      " [-3.98986399e-17 -7.97972799e-17  1.00000000e+00 -5.55111512e-17\n",
      "  -9.36750677e-17 -5.55111512e-17]\n",
      " [-5.37764278e-17 -1.07552856e-16 -5.55111512e-17  1.00000000e+00\n",
      "  -1.49186219e-16 -8.32667268e-17]\n",
      " [-3.98986399e-17 -5.20417043e-17 -9.36750677e-17 -1.49186219e-16\n",
      "   1.00000000e+00 -2.77555756e-17]\n",
      " [-2.77555756e-17 -2.77555756e-17 -5.55111512e-17 -8.32667268e-17\n",
      "  -2.77555756e-17  1.00000000e+00]]\n",
      "The Maximum off-diagonal element of Matrix C is:  -2.7755575615628914e-17 \n",
      " The Minimum off-diagonal element of Matrix C is:  -1.491862189340054e-16\n"
     ]
    }
   ],
   "source": [
    "matrixC = matrixU @ matrixU #define the matrix C\n",
    "\n",
    "#find the largest and smallest off-diagonal elements of C- combine upper and lower triangle and find max and min\n",
    "\n",
    "upper_tri = np.ravel(matrixC[np.triu_indices(6,k=1)])\n",
    "lower_tri = np.ravel(matrixC[np.tril_indices(6,k=-1)])\n",
    "lower_upper_tri = np.concatenate([upper_tri,lower_tri]) #combine the lower and upper triangles from matrix C\n",
    "\n",
    "#get the max and min from the combined matrix lower_upper_tri which should contain the off-diagonal elements of C\n",
    "\n",
    "print(matrixC)\n",
    "#print results\n",
    "print(\"The Maximum off-diagonal element of Matrix C is: \", max(lower_upper_tri),\n",
    "\"\\n The Minimum off-diagonal element of Matrix C is: \", min(lower_upper_tri))\n"
   ]
  },
  {
   "cell_type": "markdown",
   "metadata": {},
   "source": [
    "**c)** Find the largest and smallest diagonal elements of $C$."
   ]
  },
  {
   "cell_type": "code",
   "execution_count": 6,
   "metadata": {},
   "outputs": [
    {
     "name": "stdout",
     "output_type": "stream",
     "text": [
      "1.0\n",
      "1.0\n"
     ]
    }
   ],
   "source": [
    "#first extract them and store them:\n",
    "diagonals = np.diag(matrixC)\n",
    "print(max(diagonals))\n",
    "print(min(diagonals))\n",
    "#note the max and min values of the diagonal of Matrix C are equivalent"
   ]
  },
  {
   "cell_type": "markdown",
   "metadata": {},
   "source": [
    "**d)** Compute $Uu$."
   ]
  },
  {
   "cell_type": "code",
   "execution_count": 7,
   "metadata": {},
   "outputs": [
    {
     "name": "stdout",
     "output_type": "stream",
     "text": [
      "[-1. -2. -3. -3. -2. -1.]\n"
     ]
    }
   ],
   "source": [
    "#compute matrix U times vector u\n",
    "U_u = matrixU @ u\n",
    "print(U_u)"
   ]
  },
  {
   "cell_type": "markdown",
   "metadata": {},
   "source": [
    "**e)** Compute the scalar $max_i$ $\\sum_{j}|U_{ij}|$"
   ]
  },
  {
   "cell_type": "code",
   "execution_count": 8,
   "metadata": {},
   "outputs": [
    {
     "name": "stdout",
     "output_type": "stream",
     "text": [
      "The Maximum value of all the row sums:  2.2857142857142856\n"
     ]
    }
   ],
   "source": [
    "row_sums = np.sum(np.abs(matrixU), axis=0)\n",
    "print(\"The Maximum value of all the row sums: \", max(row_sums))"
   ]
  },
  {
   "cell_type": "markdown",
   "metadata": {},
   "source": [
    "**f)** Print the third row of $U$."
   ]
  },
  {
   "cell_type": "code",
   "execution_count": 9,
   "metadata": {},
   "outputs": [
    {
     "name": "stdout",
     "output_type": "stream",
     "text": [
      "[-0.21428571 -0.42857143  0.35714286 -0.64285714 -0.42857143 -0.21428571]\n"
     ]
    }
   ],
   "source": [
    "#print the third row of matrix U\n",
    "print(matrixU[2])"
   ]
  },
  {
   "cell_type": "markdown",
   "metadata": {},
   "source": [
    "**g)** Print the elements of the second column below the diagonal."
   ]
  },
  {
   "cell_type": "code",
   "execution_count": 10,
   "metadata": {},
   "outputs": [
    {
     "name": "stdout",
     "output_type": "stream",
     "text": [
      "[-0.42857143 -0.42857143 -0.28571429 -0.14285714]\n"
     ]
    }
   ],
   "source": [
    "#print the elements of the second column below the diagonal\n",
    "#first get the lower triangle indices\n",
    "lower_diag_U = matrixU[:,1][2:]\n",
    "#then just print column 2\n",
    "print(lower_diag_U.T)\n"
   ]
  },
  {
   "cell_type": "markdown",
   "metadata": {},
   "source": [
    "**h)** Let $A$ be the first three columns of $U$. Compute $P = AA^T$."
   ]
  },
  {
   "cell_type": "code",
   "execution_count": 11,
   "metadata": {},
   "outputs": [
    {
     "name": "stdout",
     "output_type": "stream",
     "text": [
      "[[ 9.28571429e-01 -1.42857143e-01 -2.14285714e-01 -2.77555756e-17\n",
      "  -2.77555756e-17 -1.38777878e-17]\n",
      " [-1.42857143e-01  7.14285714e-01 -4.28571429e-01 -5.55111512e-17\n",
      "  -2.77555756e-17 -1.38777878e-17]\n",
      " [-2.14285714e-01 -4.28571429e-01  3.57142857e-01 -2.77555756e-17\n",
      "  -5.55111512e-17 -2.77555756e-17]\n",
      " [-2.77555756e-17 -5.55111512e-17 -2.77555756e-17  6.42857143e-01\n",
      "   4.28571429e-01  2.14285714e-01]\n",
      " [-2.77555756e-17 -2.77555756e-17 -5.55111512e-17  4.28571429e-01\n",
      "   2.85714286e-01  1.42857143e-01]\n",
      " [-1.38777878e-17 -1.38777878e-17 -2.77555756e-17  2.14285714e-01\n",
      "   1.42857143e-01  7.14285714e-02]]\n"
     ]
    }
   ],
   "source": [
    "#define matrix A as first three columns of matrix U\n",
    "matrixA = matrixU[:,0:3]\n",
    "#compute P by multiplying A by its transpose\n",
    "matrixP = np.matmul(matrixA,np.transpose(matrixA))\n",
    "print(matrixP)"
   ]
  },
  {
   "cell_type": "markdown",
   "metadata": {},
   "source": [
    "**i)** Show that $P$ is idempotent by recomputing (e) with $PP - P$."
   ]
  },
  {
   "cell_type": "code",
   "execution_count": 12,
   "metadata": {},
   "outputs": [
    {
     "name": "stdout",
     "output_type": "stream",
     "text": [
      "After re-calculating e, the following row sum is obtained:  2.2997476938663954e-16\n"
     ]
    }
   ],
   "source": [
    "#show matrix P is idempotent by showing P is returned after computing PP - P:\n",
    "returnedMatrix = np.matmul(matrixP,matrixP) - matrixP #This is PP - P\n",
    "row_sum = np.sum(np.abs(returnedMatrix),axis = 0) #calculate the row sums of the returned matrix\n",
    "\n",
    "print(\"After re-calculating e, the following row sum is obtained: \", np.max(row_sum))"
   ]
  },
  {
   "cell_type": "markdown",
   "metadata": {},
   "source": [
    "Since $PP - P$ is about $0$, it is evident that $P$ is an idempotent matrix."
   ]
  },
  {
   "cell_type": "markdown",
   "metadata": {},
   "source": [
    "**j)** Let $B$ be the last three columns of $U$. Compute $Q = BB^{T}$."
   ]
  },
  {
   "cell_type": "code",
   "execution_count": 13,
   "metadata": {},
   "outputs": [
    {
     "name": "stdout",
     "output_type": "stream",
     "text": [
      "Matrix Q: \n",
      "  [[ 7.14285714e-02  1.42857143e-01  2.14285714e-01 -2.60208521e-17\n",
      "  -1.21430643e-17 -1.38777878e-17]\n",
      " [ 1.42857143e-01  2.85714286e-01  4.28571429e-01 -5.20417043e-17\n",
      "  -2.42861287e-17 -2.77555756e-17]\n",
      " [ 2.14285714e-01  4.28571429e-01  6.42857143e-01 -2.77555756e-17\n",
      "  -3.81639165e-17 -2.77555756e-17]\n",
      " [-2.60208521e-17 -5.20417043e-17 -2.77555756e-17  3.57142857e-01\n",
      "  -4.28571429e-01 -2.14285714e-01]\n",
      " [-1.21430643e-17 -2.42861287e-17 -3.81639165e-17 -4.28571429e-01\n",
      "   7.14285714e-01 -1.42857143e-01]\n",
      " [-1.38777878e-17 -2.77555756e-17 -2.77555756e-17 -2.14285714e-01\n",
      "  -1.42857143e-01  9.28571429e-01]]\n"
     ]
    }
   ],
   "source": [
    "matrixB = matrixU[:,-3:] #create matrix B\n",
    "matrixQ = matrixB @ matrixB.T\n",
    "print(\"Matrix Q: \\n \", matrixQ)"
   ]
  },
  {
   "cell_type": "markdown",
   "metadata": {},
   "source": [
    "**k)** Show that $Q$ is idempotent by recomputing e) with $QQ - Q$"
   ]
  },
  {
   "cell_type": "code",
   "execution_count": 14,
   "metadata": {},
   "outputs": [
    {
     "name": "stdout",
     "output_type": "stream",
     "text": [
      "After re-calculating e for the matrix QQ - Q, the following row sum is obtained:  2.2997476938663954e-16\n"
     ]
    }
   ],
   "source": [
    "idempotentQ = matrixQ @ matrixQ - matrixQ #calculate QQ - Q\n",
    "\n",
    "row_sum2= np.sum(np.abs(idempotentQ),axis = 0) #do the same calculation from e)\n",
    "\n",
    "print(\"After re-calculating e for the matrix QQ - Q, the following row sum is obtained: \", np.max(row_sum2))"
   ]
  },
  {
   "cell_type": "markdown",
   "metadata": {},
   "source": [
    "Because all elements in  $QQ - Q$ are about 0, we can say that $Q$ is an idempotent matrix."
   ]
  },
  {
   "cell_type": "markdown",
   "metadata": {},
   "source": [
    "**l)** Compute $P + Q$"
   ]
  },
  {
   "cell_type": "code",
   "execution_count": 15,
   "metadata": {},
   "outputs": [
    {
     "name": "stdout",
     "output_type": "stream",
     "text": [
      "[[ 1.00000000e+00 -2.77555756e-17 -5.55111512e-17 -5.37764278e-17\n",
      "  -3.98986399e-17 -2.77555756e-17]\n",
      " [-2.77555756e-17  1.00000000e+00 -1.11022302e-16 -1.07552856e-16\n",
      "  -5.20417043e-17 -4.16333634e-17]\n",
      " [-5.55111512e-17 -1.11022302e-16  1.00000000e+00 -5.55111512e-17\n",
      "  -9.36750677e-17 -5.55111512e-17]\n",
      " [-5.37764278e-17 -1.07552856e-16 -5.55111512e-17  1.00000000e+00\n",
      "  -1.66533454e-16 -5.55111512e-17]\n",
      " [-3.98986399e-17 -5.20417043e-17 -9.36750677e-17 -1.66533454e-16\n",
      "   1.00000000e+00 -2.77555756e-17]\n",
      " [-2.77555756e-17 -4.16333634e-17 -5.55111512e-17 -5.55111512e-17\n",
      "  -2.77555756e-17  1.00000000e+00]]\n"
     ]
    }
   ],
   "source": [
    "print(matrixP + matrixQ)"
   ]
  },
  {
   "cell_type": "markdown",
   "metadata": {},
   "source": [
    "# 2) Compute the correlation between number of failures and temperature at launch, deleting the last, missing observation (the disaster)"
   ]
  },
  {
   "cell_type": "code",
   "execution_count": 16,
   "metadata": {},
   "outputs": [
    {
     "name": "stdout",
     "output_type": "stream",
     "text": [
      "   flight_number      date  no_o_rings  number_failed  temperature\n",
      "0              1   4/12/81           6            0.0           66\n",
      "1              2  11/12/81           6            1.0           70\n",
      "2              3   3/22/82           6            0.0           69\n",
      "3              5  11/11/82           6            0.0           68\n",
      "4              6   4/04/83           6            0.0           67\n",
      "5              7   6/18/83           6            0.0           72\n",
      "6              8   8/30/83           6            0.0           73\n",
      "7              9  11/28/83           6            0.0           70\n",
      "8           41-B   2/03/84           6            1.0           57\n",
      "9           41-C   4/06/84           6            1.0           63\n",
      "10          41-D   8/30/84           6            1.0           70\n",
      "11          41-G  10/05/84           6            0.0           78\n",
      "12          51-A  11/08/84           6            0.0           67\n",
      "13          51-C   1/24/85           6            3.0           53\n",
      "14          51-D   4/12/85           6            0.0           67\n",
      "15          51-B   4/29/85           6            0.0           75\n",
      "16          51-G   6/17/85           6            0.0           70\n",
      "17          51-F   7/29/85           6            0.0           81\n",
      "18          51-I   8/27/85           6            0.0           76\n",
      "19          51-J  10/03/85           6            0.0           79\n",
      "20          61-A  10/30/85           6            2.0           75\n",
      "21          61-B  11/26/85           6            0.0           76\n",
      "22          61-C   1/12/86           6            1.0           58\n"
     ]
    }
   ],
   "source": [
    "#import pandas\n",
    "import pandas as pd\n",
    "#read in data\n",
    "oringp_data = pd.read_csv(\"/Users/collinkennedy/Dropbox/UC Davis/Grad/spring_quarter_2022/STA208-Machine_Learning/hw0/oringp.dat\",\n",
    "header= None,engine='python',delimiter='\\s+') #reading in the data\n",
    "oringp_data.columns = ('flight_number','date','no_o_rings','number_failed','temperature') #renaming the columns\n",
    "oringp_data.head() #viewing the first 5 observations of the data\n",
    "\n",
    "oringp_data = oringp_data.dropna() #drop the last observation \n",
    "\n",
    "print(oringp_data)"
   ]
  },
  {
   "cell_type": "code",
   "execution_count": 17,
   "metadata": {},
   "outputs": [
    {
     "ename": "TypeError",
     "evalue": "list indices must be integers or slices, not tuple",
     "output_type": "error",
     "traceback": [
      "\u001b[0;31m---------------------------------------------------------------------------\u001b[0m",
      "\u001b[0;31mTypeError\u001b[0m                                 Traceback (most recent call last)",
      "\u001b[0;32m/var/folders/zd/drh5nccn0bq4w08_z0z0lzkr0000gn/T/ipykernel_3069/4051109420.py\u001b[0m in \u001b[0;36m<module>\u001b[0;34m\u001b[0m\n\u001b[1;32m      1\u001b[0m \u001b[0mlen\u001b[0m\u001b[0;34m(\u001b[0m\u001b[0moringp_data\u001b[0m\u001b[0;34m[\u001b[0m\u001b[0;34m'flight_number'\u001b[0m\u001b[0;34m]\u001b[0m\u001b[0;34m)\u001b[0m\u001b[0;34m\u001b[0m\u001b[0;34m\u001b[0m\u001b[0m\n\u001b[1;32m      2\u001b[0m \u001b[0mnp\u001b[0m\u001b[0;34m.\u001b[0m\u001b[0mlog\u001b[0m\u001b[0;34m(\u001b[0m\u001b[0;36m10\u001b[0m\u001b[0;34m)\u001b[0m\u001b[0;34m\u001b[0m\u001b[0;34m\u001b[0m\u001b[0m\n\u001b[0;32m----> 3\u001b[0;31m \u001b[0mnp\u001b[0m\u001b[0;34m.\u001b[0m\u001b[0marray\u001b[0m\u001b[0;34m(\u001b[0m\u001b[0;34m[\u001b[0m\u001b[0;34m[\u001b[0m\u001b[0;36m1\u001b[0m\u001b[0;34m,\u001b[0m\u001b[0;36m2\u001b[0m\u001b[0;34m]\u001b[0m\u001b[0;34m[\u001b[0m\u001b[0;36m3\u001b[0m\u001b[0;34m,\u001b[0m\u001b[0;36m4\u001b[0m\u001b[0;34m]\u001b[0m\u001b[0;34m]\u001b[0m\u001b[0;34m)\u001b[0m\u001b[0;34m\u001b[0m\u001b[0;34m\u001b[0m\u001b[0m\n\u001b[0m",
      "\u001b[0;31mTypeError\u001b[0m: list indices must be integers or slices, not tuple"
     ]
    }
   ],
   "source": [
    "len(oringp_data['flight_number'])\n",
    "np.log(10)\n",
    "np.array([[1,2][3,4]])"
   ]
  },
  {
   "cell_type": "code",
   "execution_count": null,
   "metadata": {},
   "outputs": [
    {
     "data": {
      "text/plain": [
       "array([[ 1.        , -0.56132843],\n",
       "       [-0.56132843,  1.        ]])"
      ]
     },
     "execution_count": 29,
     "metadata": {},
     "output_type": "execute_result"
    }
   ],
   "source": [
    "np.corrcoef(oringp_data['number_failed'],oringp_data['temperature'])"
   ]
  },
  {
   "cell_type": "markdown",
   "metadata": {},
   "source": [
    "$Corr(number\\_failed, temperature ) = -.56$"
   ]
  },
  {
   "cell_type": "markdown",
   "metadata": {},
   "source": []
  },
  {
   "cell_type": "markdown",
   "metadata": {},
   "source": [
    "# 3)"
   ]
  },
  {
   "cell_type": "code",
   "execution_count": 56,
   "metadata": {},
   "outputs": [],
   "source": [
    "import math #will need this to exponentiate log-likelihood function\n",
    "#create function\n",
    "def dmvnorm_lowrank(y,mu,Z,sigma0,sigma1,log = False):\n",
    "    #create a matrix by y - u called y_u\n",
    "    y_u = y - mu.reshape(len(y),1)\n",
    "\n",
    "    #another matrix to make the code below more concise\n",
    "    sigma_Z = (sigma1**2)*(Z @ Z.T) + (sigma0**2)*np.identity(len(y))\n",
    "\n",
    "    #log density function:\n",
    "    log_density_function =( (-len(y)/2)*np.log(2*np.pi) - .5*np.log(np.linalg.det(sigma_Z)) - \n",
    "       .5*np.matmul(y_u.T,np.linalg.inv(sigma_Z)) @ y_u )\n",
    "\n",
    "    if log == False: ##when log = FALSE, function should calculate the log likelihood\n",
    "       log_likelihood = log_density_function #rename the log density function in this case since we are evaluating it at y\n",
    "       return(log_likelihood)\n",
    "\n",
    "    else: # when log = True, function should calculate the original likelihood function\n",
    "       likelihood = np.exp(log_density_function)\n",
    "       return(likelihood)\n",
    "\n",
    "        \n"
   ]
  },
  {
   "cell_type": "markdown",
   "metadata": {},
   "source": [
    "To test the function, we consider the following constraints and random variables:\n",
    " - n = 100, q = 5\n",
    " - $\\sigma_0 $ -> random number between 0 and 100\n",
    " - $\\sigma_1 $ -> random number between 0 and 100\n",
    " - $\\mu \\sim Uniform(0,10)$\n",
    " - $Z \\sim N(10,2)$\n",
    " - $y \\sim N(\\mu, \\sigma^{2}_{1}ZZ^{T} + \\sigma^{2}_{0}I_n)$\n"
   ]
  },
  {
   "cell_type": "code",
   "execution_count": 59,
   "metadata": {},
   "outputs": [
    {
     "name": "stdout",
     "output_type": "stream",
     "text": [
      "[[ 454.99928065]\n",
      " [ 327.64959978]\n",
      " [  76.35365904]\n",
      " [ 327.84960059]\n",
      " [ 212.22293983]\n",
      " [  94.0688189 ]\n",
      " [ 609.57556012]\n",
      " [ -12.44265446]\n",
      " [ 467.22262725]\n",
      " [   9.89314634]\n",
      " [ 271.10328119]\n",
      " [ 187.83330477]\n",
      " [ 368.20098208]\n",
      " [  26.51600309]\n",
      " [ 405.42104685]\n",
      " [ 607.792463  ]\n",
      " [ 145.06882152]\n",
      " [ 198.01038752]\n",
      " [ 456.43077917]\n",
      " [ 145.03278894]\n",
      " [ 338.11353432]\n",
      " [ 125.86613561]\n",
      " [ 301.91611244]\n",
      " [ 167.6945685 ]\n",
      " [ -49.18959979]\n",
      " [ 426.11175796]\n",
      " [ 133.01017959]\n",
      " [ -48.93039453]\n",
      " [ 357.89941457]\n",
      " [ 178.62360352]\n",
      " [ 381.794498  ]\n",
      " [ 133.95949885]\n",
      " [ 429.45309831]\n",
      " [-324.04032173]\n",
      " [ 408.93681929]\n",
      " [ 322.609948  ]\n",
      " [ 149.09747957]\n",
      " [ 122.70052791]\n",
      " [ 714.88063187]\n",
      " [ -74.30446704]\n",
      " [ 165.80977818]\n",
      " [  31.09733462]\n",
      " [ 616.08814362]\n",
      " [ 642.94824555]\n",
      " [ 292.89838324]\n",
      " [ 266.59790884]\n",
      " [ 424.37808313]\n",
      " [ 296.79029977]\n",
      " [ 360.06636789]\n",
      " [ 386.46108421]\n",
      " [ 414.15067361]\n",
      " [ 379.81306572]\n",
      " [ 472.26227081]\n",
      " [ 263.05293799]\n",
      " [ 266.82769349]\n",
      " [ 213.19156777]\n",
      " [ 525.24321179]\n",
      " [ 440.46644655]\n",
      " [ 560.03580678]\n",
      " [ 580.27413913]\n",
      " [ 192.64312823]\n",
      " [ 285.60937559]\n",
      " [ 515.21059485]\n",
      " [ 629.9312222 ]\n",
      " [ 422.11871512]\n",
      " [ 310.08815043]\n",
      " [ 296.74791454]\n",
      " [  67.18313355]\n",
      " [ 139.25927645]\n",
      " [ 329.61534324]\n",
      " [ 511.78690013]\n",
      " [ 682.75326846]\n",
      " [ 250.82247557]\n",
      " [ 526.50193842]\n",
      " [ 254.01628192]\n",
      " [  98.12622822]\n",
      " [ 555.27677394]\n",
      " [ 584.44663753]\n",
      " [ 361.90277426]\n",
      " [ 284.77941551]\n",
      " [ -57.1698329 ]\n",
      " [  76.3846355 ]\n",
      " [ 276.26487616]\n",
      " [ 266.93141991]\n",
      " [ 308.46693981]\n",
      " [ 360.95630615]\n",
      " [ 203.1314039 ]\n",
      " [ 245.60328608]\n",
      " [  62.2262759 ]\n",
      " [ 870.19771784]\n",
      " [ 244.44756409]\n",
      " [ 397.79225067]\n",
      " [ 344.52301884]\n",
      " [ 502.64463057]\n",
      " [ -93.46732927]\n",
      " [ 339.43343898]\n",
      " [ 180.4058086 ]\n",
      " [ 437.74773089]\n",
      " [  -4.82730536]\n",
      " [ 623.28135782]]\n"
     ]
    }
   ],
   "source": [
    "#simulate the data and test the function\n",
    "np.random.seed(1)\n",
    "sigma0 = np.random.randint(100)\n",
    "sigma1 = np.random.randint(100)\n",
    "mu = np.random.uniform(0,10,100)\n",
    "\n",
    "#create the Z matrix\n",
    "Z = np.random.normal(10,2,500).reshape(100,5) #reshape into a 100 x 5 matrix\n",
    "\n",
    "#draw 100 samples for y from the multivariate normal distribution\n",
    "y = np.random.multivariate_normal(mu, sigma1**2 * np.identity(100) + sigma0**2 * Z @ Z.T, 1).reshape(100,1) #again, \n",
    "print(y)\n"
   ]
  },
  {
   "cell_type": "code",
   "execution_count": 25,
   "metadata": {},
   "outputs": [
    {
     "data": {
      "text/plain": [
       "(100,)"
      ]
     },
     "execution_count": 25,
     "metadata": {},
     "output_type": "execute_result"
    }
   ],
   "source": [
    "mu.shape"
   ]
  },
  {
   "cell_type": "code",
   "execution_count": 60,
   "metadata": {},
   "outputs": [
    {
     "name": "stdout",
     "output_type": "stream",
     "text": [
      "[[-inf]]\n",
      "[[0.]]\n"
     ]
    },
    {
     "name": "stderr",
     "output_type": "stream",
     "text": [
      "/Users/collinkennedy/opt/anaconda3/lib/python3.7/site-packages/numpy/linalg/linalg.py:2125: RuntimeWarning: overflow encountered in det\n",
      "  r = _umath_linalg.det(a, signature=signature)\n"
     ]
    }
   ],
   "source": [
    "# Calculating the likelihood for the above generated data \n",
    "\n",
    "#a. Log Likelihood \n",
    "log_likelihood = dmvnorm_lowrank(y,mu,Z,sigma0,sigma1,log = False)\n",
    "\n",
    "#b. Normal Likelihood\n",
    "print(log_likelihood)\n",
    "\n",
    "ll = dmvnorm_lowrank(y,mu,Z,sigma0,sigma1,log = True)\n",
    "print(ll)\n"
   ]
  },
  {
   "cell_type": "code",
   "execution_count": 78,
   "metadata": {},
   "outputs": [
    {
     "name": "stdout",
     "output_type": "stream",
     "text": [
      "log likelihood using dvnorm_lowrank:  [-35.08201162]\n",
      "log likelihood using scipy's logpdf function:  [-32.02460594 -32.05220027 -32.17118195 -32.0962549  -32.09458891\n",
      " -31.99091614 -32.19726673 -32.14907253 -32.02338298 -32.44905457]\n",
      "likelihood using dvnorm_lowrank:  [5.80865979e-16]\n",
      "likelihood using scipy's pdf function:  [1.23563544e-14 1.20200505e-14 1.06716900e-14 1.15020065e-14\n",
      " 1.15211847e-14 1.27797291e-14 1.03969206e-14 1.09102626e-14\n",
      " 1.23714750e-14 8.08266644e-15]\n"
     ]
    }
   ],
   "source": [
    "#Lets try n  = 10, q = 4\n",
    "#simulate the data and test the function\n",
    "n = 10\n",
    "q = 10\n",
    "np.random.seed(1)\n",
    "sigma0 = np.random.randint(10) #sigma0 is a single value between 0 and 100\n",
    "sigma1 = np.random.randint(10) #sigma1 is a single value between 0 and 100\n",
    "mu = np.random.uniform(0,10,n) #last parameter is n\n",
    "\n",
    "\n",
    "\n",
    "\n",
    "\n",
    "#create the Z matrix\n",
    "Z = np.random.uniform(size=(n,q)) #randomly sampled n x q matrix\n",
    "\n",
    "#create covariance matrix for testing later\n",
    "cov_matrix = (sigma1**2) * np.matmul(Z,Z.T) + sigma0**2 * np.identity(n)\n",
    "\n",
    "#draw 10 samples for y from the multivariate normal distribution\n",
    "y = np.random.multivariate_normal(mu, sigma1**2 * np.identity(10) + sigma0**2 * Z @ Z.T, 1).reshape(10,1) #again, \n",
    "\n",
    "# Calculating the likelihood for the above generated data \n",
    "\n",
    "#a. Log Likelihood \n",
    "log_likelihood = dmvnorm_lowrank(y,mu,Z,sigma0,sigma1,log = False)\n",
    "\n",
    "#b.  Likelihood\n",
    "ll = dmvnorm_lowrank(y,mu,Z,sigma0,sigma1,log = True)\n",
    "\n",
    "\n",
    "#Obtaining results using scipy functions for later comparison\n",
    "log_likelihood_scipy = multivariate_normal.logpdf(y, mean= mu, cov= cov_matrix )\n",
    "likelihood_scipy = multivariate_normal.pdf(y, mean = mu, cov=cov_matrix)\n",
    "\n",
    "\n",
    "#Verifying Results using Scipy\n",
    "#first log-likelihood\n",
    "print(\"log likelihood using dvnorm_lowrank: \", log_likelihood[0] )\n",
    "print(\"log likelihood using scipy's logpdf function: \", log_likelihood_scipy )\n",
    "\n",
    "#likelihood\n",
    "print(\"likelihood using dvnorm_lowrank: \", ll[0])\n",
    "print(\"likelihood using scipy's pdf function: \", likelihood_scipy)\n",
    "\n"
   ]
  },
  {
   "cell_type": "code",
   "execution_count": 79,
   "metadata": {},
   "outputs": [
    {
     "name": "stdout",
     "output_type": "stream",
     "text": [
      "[[0.20445225 0.87811744 0.02738759 0.67046751 0.4173048  0.55868983\n",
      "  0.14038694 0.19810149 0.80074457 0.96826158]\n",
      " [0.31342418 0.69232262 0.87638915 0.89460666 0.08504421 0.03905478\n",
      "  0.16983042 0.8781425  0.09834683 0.42110763]\n",
      " [0.95788953 0.53316528 0.69187711 0.31551563 0.68650093 0.83462567\n",
      "  0.01828828 0.75014431 0.98886109 0.74816565]\n",
      " [0.28044399 0.78927933 0.10322601 0.44789353 0.9085955  0.29361415\n",
      "  0.28777534 0.13002857 0.01936696 0.67883553]\n",
      " [0.21162812 0.26554666 0.49157316 0.05336255 0.57411761 0.14672857\n",
      "  0.58930554 0.69975836 0.10233443 0.41405599]\n",
      " [0.69440016 0.41417927 0.04995346 0.53589641 0.66379465 0.51488911\n",
      "  0.94459476 0.58655504 0.90340192 0.1374747 ]\n",
      " [0.13927635 0.80739129 0.39767684 0.1653542  0.92750858 0.34776586\n",
      "  0.7508121  0.72599799 0.88330609 0.62367221]\n",
      " [0.75094243 0.34889834 0.26992789 0.89588622 0.42809119 0.96484005\n",
      "  0.6634415  0.62169572 0.11474597 0.94948926]\n",
      " [0.44991213 0.57838961 0.4081368  0.23702698 0.90337952 0.57367949\n",
      "  0.00287033 0.61714491 0.3266449  0.5270581 ]\n",
      " [0.8859421  0.35726976 0.90853515 0.62336012 0.01582124 0.92943723\n",
      "  0.69089692 0.99732285 0.17234051 0.13713575]]\n"
     ]
    }
   ],
   "source": [
    "print(Z)"
   ]
  },
  {
   "cell_type": "code",
   "execution_count": null,
   "metadata": {},
   "outputs": [],
   "source": []
  }
 ],
 "metadata": {
  "interpreter": {
   "hash": "39d961a08718555772bb0ac411a6b2b438a184f9ac0d65f0613f436450256741"
  },
  "kernelspec": {
   "display_name": "Python 3.7.4 ('base')",
   "language": "python",
   "name": "python3"
  },
  "language_info": {
   "codemirror_mode": {
    "name": "ipython",
    "version": 3
   },
   "file_extension": ".py",
   "mimetype": "text/x-python",
   "name": "python",
   "nbconvert_exporter": "python",
   "pygments_lexer": "ipython3",
   "version": "3.7.4"
  },
  "orig_nbformat": 4
 },
 "nbformat": 4,
 "nbformat_minor": 2
}
